{
  "nbformat": 4,
  "nbformat_minor": 0,
  "metadata": {
    "colab": {
      "name": "TurkishTextClassificationWithBert",
      "provenance": [],
      "collapsed_sections": [],
      "machine_shape": "hm"
    },
    "kernelspec": {
      "name": "python3",
      "display_name": "Python 3"
    }
  },
  "cells": [
    {
      "cell_type": "code",
      "metadata": {
        "id": "W1y0XLgeZIcC",
        "colab_type": "code",
        "outputId": "58266322-dd49-49e5-df3c-86f695f37205",
        "colab": {
          "base_uri": "https://localhost:8080/",
          "height": 326
        }
      },
      "source": [
        "!pip install transformers"
      ],
      "execution_count": 1,
      "outputs": [
        {
          "output_type": "stream",
          "text": [
            "Requirement already satisfied: transformers in /usr/local/lib/python3.6/dist-packages (2.9.0)\n",
            "Requirement already satisfied: regex!=2019.12.17 in /usr/local/lib/python3.6/dist-packages (from transformers) (2019.12.20)\n",
            "Requirement already satisfied: tokenizers==0.7.0 in /usr/local/lib/python3.6/dist-packages (from transformers) (0.7.0)\n",
            "Requirement already satisfied: tqdm>=4.27 in /usr/local/lib/python3.6/dist-packages (from transformers) (4.41.1)\n",
            "Requirement already satisfied: sacremoses in /usr/local/lib/python3.6/dist-packages (from transformers) (0.0.43)\n",
            "Requirement already satisfied: sentencepiece in /usr/local/lib/python3.6/dist-packages (from transformers) (0.1.86)\n",
            "Requirement already satisfied: dataclasses; python_version < \"3.7\" in /usr/local/lib/python3.6/dist-packages (from transformers) (0.7)\n",
            "Requirement already satisfied: filelock in /usr/local/lib/python3.6/dist-packages (from transformers) (3.0.12)\n",
            "Requirement already satisfied: numpy in /usr/local/lib/python3.6/dist-packages (from transformers) (1.18.4)\n",
            "Requirement already satisfied: requests in /usr/local/lib/python3.6/dist-packages (from transformers) (2.23.0)\n",
            "Requirement already satisfied: click in /usr/local/lib/python3.6/dist-packages (from sacremoses->transformers) (7.1.2)\n",
            "Requirement already satisfied: joblib in /usr/local/lib/python3.6/dist-packages (from sacremoses->transformers) (0.14.1)\n",
            "Requirement already satisfied: six in /usr/local/lib/python3.6/dist-packages (from sacremoses->transformers) (1.12.0)\n",
            "Requirement already satisfied: idna<3,>=2.5 in /usr/local/lib/python3.6/dist-packages (from requests->transformers) (2.9)\n",
            "Requirement already satisfied: certifi>=2017.4.17 in /usr/local/lib/python3.6/dist-packages (from requests->transformers) (2020.4.5.1)\n",
            "Requirement already satisfied: chardet<4,>=3.0.2 in /usr/local/lib/python3.6/dist-packages (from requests->transformers) (3.0.4)\n",
            "Requirement already satisfied: urllib3!=1.25.0,!=1.25.1,<1.26,>=1.21.1 in /usr/local/lib/python3.6/dist-packages (from requests->transformers) (1.24.3)\n"
          ],
          "name": "stdout"
        }
      ]
    },
    {
      "cell_type": "code",
      "metadata": {
        "id": "9k9I815OaHE6",
        "colab_type": "code",
        "colab": {}
      },
      "source": [
        "from transformers import AutoModel, AutoTokenizer\n",
        "\n",
        "tokenizer = AutoTokenizer.from_pretrained(\"dbmdz/bert-base-turkish-cased\")\n",
        "model = AutoModel.from_pretrained(\"dbmdz/bert-base-turkish-cased\")"
      ],
      "execution_count": 0,
      "outputs": []
    },
    {
      "cell_type": "code",
      "metadata": {
        "id": "g23sdtWLaHiJ",
        "colab_type": "code",
        "colab": {}
      },
      "source": [
        "import pandas as pd\n",
        "import numpy as np\n",
        "import torch\n",
        "from tqdm import tqdm"
      ],
      "execution_count": 0,
      "outputs": []
    },
    {
      "cell_type": "code",
      "metadata": {
        "id": "WMsM0j86a2IS",
        "colab_type": "code",
        "colab": {}
      },
      "source": [
        "data = pd.read_csv(\"dataset.csv\")"
      ],
      "execution_count": 0,
      "outputs": []
    },
    {
      "cell_type": "code",
      "metadata": {
        "id": "OLGQJPvRbGoc",
        "colab_type": "code",
        "colab": {}
      },
      "source": [
        "data = data[:2100]\n",
        "data['labels'] = pd.factorize(data.category)[0]\n",
        "del data['category']"
      ],
      "execution_count": 0,
      "outputs": []
    },
    {
      "cell_type": "code",
      "metadata": {
        "id": "GVqq-mXJbJF5",
        "colab_type": "code",
        "colab": {}
      },
      "source": [
        "tokenized_input = data['text'].apply((lambda x: tokenizer.encode(x, add_special_tokens=True,max_length=256)))"
      ],
      "execution_count": 0,
      "outputs": []
    },
    {
      "cell_type": "code",
      "metadata": {
        "id": "zGR4FZH5bSIj",
        "colab_type": "code",
        "colab": {}
      },
      "source": [
        "max_len = 256\n",
        "for i in tokenized_input.values:\n",
        "    if len(i) > max_len:\n",
        "        max_len = len(i)\n",
        "\n",
        "padded = np.array([i + [0]*(max_len-len(i)) for i in tokenized_input.values])"
      ],
      "execution_count": 0,
      "outputs": []
    },
    {
      "cell_type": "code",
      "metadata": {
        "id": "5oIbtqXCbSkG",
        "colab_type": "code",
        "colab": {}
      },
      "source": [
        "attention_masks  = np.where(padded != 0, 1, 0)"
      ],
      "execution_count": 0,
      "outputs": []
    },
    {
      "cell_type": "code",
      "metadata": {
        "id": "suSscNRQbTl_",
        "colab_type": "code",
        "colab": {}
      },
      "source": [
        "input_ids = torch.tensor(padded)  \n",
        "attention_masks = torch.tensor(attention_masks)"
      ],
      "execution_count": 0,
      "outputs": []
    },
    {
      "cell_type": "code",
      "metadata": {
        "id": "tyiIkHupbTjS",
        "colab_type": "code",
        "colab": {}
      },
      "source": [
        "with torch.no_grad():\n",
        "    last_hidden_states = model(input_ids, attention_mask=attention_masks)"
      ],
      "execution_count": 0,
      "outputs": []
    },
    {
      "cell_type": "code",
      "metadata": {
        "id": "SA2tQmEXbTga",
        "colab_type": "code",
        "colab": {}
      },
      "source": [
        "from sklearn.model_selection import train_test_split\n",
        "from keras.utils import np_utils\n",
        "features = last_hidden_states[0][:,0,:].numpy()\n",
        "labels = data[\"labels\"]\n",
        "from sklearn.preprocessing import LabelEncoder\n",
        "encoder = LabelEncoder()\n",
        "encoder.fit(labels)\n",
        "labels = encoder.transform(labels)\n",
        "labels = np_utils.to_categorical(labels)\n",
        "train_features, test_features, train_labels, test_labels = train_test_split(features, labels)"
      ],
      "execution_count": 0,
      "outputs": []
    },
    {
      "cell_type": "code",
      "metadata": {
        "id": "LAi3mYpZbTdo",
        "colab_type": "code",
        "colab": {}
      },
      "source": [
        "from tensorflow.keras.models import Sequential\n",
        "from tensorflow.keras.layers import Dense,Dropout"
      ],
      "execution_count": 0,
      "outputs": []
    },
    {
      "cell_type": "code",
      "metadata": {
        "id": "T54RO7embS6J",
        "colab_type": "code",
        "colab": {
          "base_uri": "https://localhost:8080/",
          "height": 34
        },
        "outputId": "c199646d-81e2-456d-924e-9e7f4dc53b2e"
      },
      "source": [
        "#test_labels2 = test_labels.reshape(-1,1)\n",
        "#train_labels2 = train_labels.reshape(-1,1)\n",
        "train_features[30][26]\n"
      ],
      "execution_count": 107,
      "outputs": [
        {
          "output_type": "execute_result",
          "data": {
            "text/plain": [
              "-1.306352"
            ]
          },
          "metadata": {
            "tags": []
          },
          "execution_count": 107
        }
      ]
    },
    {
      "cell_type": "code",
      "metadata": {
        "id": "YD17w4xM3amD",
        "colab_type": "code",
        "colab": {}
      },
      "source": [
        ""
      ],
      "execution_count": 0,
      "outputs": []
    },
    {
      "cell_type": "code",
      "metadata": {
        "id": "UrqoFQGqbTZk",
        "colab_type": "code",
        "colab": {
          "base_uri": "https://localhost:8080/",
          "height": 1000
        },
        "outputId": "f07afd0b-5804-4463-bde6-9fecb957d94b"
      },
      "source": [
        "from tensorflow.keras.models import Sequential\n",
        "from tensorflow.keras.layers import Dense,Dropout\n",
        "\n",
        "classifier = Sequential()\n",
        "classifier.add(Dense(units=256,activation='relu',input_shape=(768,)))\n",
        "classifier.add(Dense(units=256,activation='relu'))\n",
        "classifier.add(Dropout(0.2))\n",
        "classifier.add(Dense(units=256,activation='relu'))\n",
        "classifier.add(Dense(units=256,activation='relu'))\n",
        "classifier.add(Dropout(0.2))\n",
        "classifier.add(Dense(units=256,activation='relu'))\n",
        "classifier.add(Dense(units=256,activation='relu'))\n",
        "classifier.add(Dropout(0.2))\n",
        "classifier.add(Dense(units=256,activation='relu'))\n",
        "classifier.add(Dense(units=256,activation='relu'))\n",
        "\n",
        "\n",
        "classifier.add(Dense(3,activation='softmax'))\n",
        "\n",
        "classifier.compile(optimizer='adam',\n",
        "              loss='binary_crossentropy',metrics=['accuracy'])\n",
        "\n",
        "classifier.fit(train_features, train_labels,\n",
        "          batch_size=32,\n",
        "          epochs=28,\n",
        "          validation_data=(test_features, test_labels))\n"
      ],
      "execution_count": 115,
      "outputs": [
        {
          "output_type": "stream",
          "text": [
            "Epoch 1/28\n",
            "50/50 [==============================] - 1s 10ms/step - loss: 0.6239 - accuracy: 0.3816 - val_loss: 0.4660 - val_accuracy: 0.5905\n",
            "Epoch 2/28\n",
            "50/50 [==============================] - 0s 7ms/step - loss: 0.4763 - accuracy: 0.6330 - val_loss: 0.3320 - val_accuracy: 0.8114\n",
            "Epoch 3/28\n",
            "50/50 [==============================] - 0s 8ms/step - loss: 0.3730 - accuracy: 0.7460 - val_loss: 0.2987 - val_accuracy: 0.8152\n",
            "Epoch 4/28\n",
            "50/50 [==============================] - 0s 7ms/step - loss: 0.3426 - accuracy: 0.7898 - val_loss: 0.5535 - val_accuracy: 0.6114\n",
            "Epoch 5/28\n",
            "50/50 [==============================] - 0s 8ms/step - loss: 0.4362 - accuracy: 0.6768 - val_loss: 0.5614 - val_accuracy: 0.7124\n",
            "Epoch 6/28\n",
            "50/50 [==============================] - 0s 8ms/step - loss: 0.3242 - accuracy: 0.8197 - val_loss: 0.2499 - val_accuracy: 0.8362\n",
            "Epoch 7/28\n",
            "50/50 [==============================] - 0s 7ms/step - loss: 0.2173 - accuracy: 0.8838 - val_loss: 0.1790 - val_accuracy: 0.9105\n",
            "Epoch 8/28\n",
            "50/50 [==============================] - 0s 8ms/step - loss: 0.1936 - accuracy: 0.8870 - val_loss: 0.2250 - val_accuracy: 0.8705\n",
            "Epoch 9/28\n",
            "50/50 [==============================] - 0s 8ms/step - loss: 0.2206 - accuracy: 0.8717 - val_loss: 0.1882 - val_accuracy: 0.9086\n",
            "Epoch 10/28\n",
            "50/50 [==============================] - 0s 8ms/step - loss: 0.1792 - accuracy: 0.8990 - val_loss: 0.2022 - val_accuracy: 0.8819\n",
            "Epoch 11/28\n",
            "50/50 [==============================] - 0s 7ms/step - loss: 0.1809 - accuracy: 0.8946 - val_loss: 0.2666 - val_accuracy: 0.8190\n",
            "Epoch 12/28\n",
            "50/50 [==============================] - 0s 8ms/step - loss: 0.2257 - accuracy: 0.8819 - val_loss: 0.2524 - val_accuracy: 0.8610\n",
            "Epoch 13/28\n",
            "50/50 [==============================] - 0s 8ms/step - loss: 0.1761 - accuracy: 0.9010 - val_loss: 0.1557 - val_accuracy: 0.9219\n",
            "Epoch 14/28\n",
            "50/50 [==============================] - 0s 8ms/step - loss: 0.1841 - accuracy: 0.8959 - val_loss: 0.1579 - val_accuracy: 0.9162\n",
            "Epoch 15/28\n",
            "50/50 [==============================] - 0s 8ms/step - loss: 0.1551 - accuracy: 0.9194 - val_loss: 0.1723 - val_accuracy: 0.9162\n",
            "Epoch 16/28\n",
            "50/50 [==============================] - 0s 8ms/step - loss: 0.1596 - accuracy: 0.9111 - val_loss: 0.1723 - val_accuracy: 0.9105\n",
            "Epoch 17/28\n",
            "50/50 [==============================] - 0s 8ms/step - loss: 0.1672 - accuracy: 0.9111 - val_loss: 0.1642 - val_accuracy: 0.9124\n",
            "Epoch 18/28\n",
            "50/50 [==============================] - 0s 7ms/step - loss: 0.1492 - accuracy: 0.9143 - val_loss: 0.4242 - val_accuracy: 0.7562\n",
            "Epoch 19/28\n",
            "50/50 [==============================] - 0s 8ms/step - loss: 0.1785 - accuracy: 0.8908 - val_loss: 0.1982 - val_accuracy: 0.8781\n",
            "Epoch 20/28\n",
            "50/50 [==============================] - 0s 8ms/step - loss: 0.1349 - accuracy: 0.9213 - val_loss: 0.1454 - val_accuracy: 0.9219\n",
            "Epoch 21/28\n",
            "50/50 [==============================] - 0s 8ms/step - loss: 0.1538 - accuracy: 0.9010 - val_loss: 0.1965 - val_accuracy: 0.8876\n",
            "Epoch 22/28\n",
            "50/50 [==============================] - 0s 8ms/step - loss: 0.1653 - accuracy: 0.8978 - val_loss: 0.1590 - val_accuracy: 0.9086\n",
            "Epoch 23/28\n",
            "50/50 [==============================] - 0s 7ms/step - loss: 0.1794 - accuracy: 0.8997 - val_loss: 0.1753 - val_accuracy: 0.9086\n",
            "Epoch 24/28\n",
            "50/50 [==============================] - 0s 8ms/step - loss: 0.1566 - accuracy: 0.9117 - val_loss: 0.1812 - val_accuracy: 0.8990\n",
            "Epoch 25/28\n",
            "50/50 [==============================] - 0s 7ms/step - loss: 0.1728 - accuracy: 0.9067 - val_loss: 0.2154 - val_accuracy: 0.8781\n",
            "Epoch 26/28\n",
            "50/50 [==============================] - 0s 8ms/step - loss: 0.1556 - accuracy: 0.9175 - val_loss: 0.1381 - val_accuracy: 0.9333\n",
            "Epoch 27/28\n",
            "50/50 [==============================] - 0s 7ms/step - loss: 0.1397 - accuracy: 0.9187 - val_loss: 0.1455 - val_accuracy: 0.9333\n",
            "Epoch 28/28\n",
            "50/50 [==============================] - 0s 7ms/step - loss: 0.1271 - accuracy: 0.9270 - val_loss: 0.1801 - val_accuracy: 0.9124\n"
          ],
          "name": "stdout"
        },
        {
          "output_type": "execute_result",
          "data": {
            "text/plain": [
              "<tensorflow.python.keras.callbacks.History at 0x7fc83b8f1518>"
            ]
          },
          "metadata": {
            "tags": []
          },
          "execution_count": 115
        }
      ]
    },
    {
      "cell_type": "code",
      "metadata": {
        "id": "fR40ilB53aY3",
        "colab_type": "code",
        "colab": {
          "base_uri": "https://localhost:8080/",
          "height": 34
        },
        "outputId": "120cb799-db7c-453f-b028-135f8f9c698b"
      },
      "source": [
        "vocab_size = tokenizer.vocab_size\n",
        "print(vocab_size)"
      ],
      "execution_count": 100,
      "outputs": [
        {
          "output_type": "stream",
          "text": [
            "32000\n"
          ],
          "name": "stdout"
        }
      ]
    }
  ]
}