{
 "cells": [
  {
   "cell_type": "code",
   "execution_count": 1,
   "metadata": {},
   "outputs": [],
   "source": [
    "from gensim.models import word2vec,Word2Vec\n",
    "from gensim.utils import tokenize\n",
    "import pandas as pd\n",
    "import numpy as np\n",
    "import pandas as pd\n",
    "import re\n",
    "from nltk.tokenize import sent_tokenize"
   ]
  },
  {
   "cell_type": "code",
   "execution_count": 22,
   "metadata": {},
   "outputs": [],
   "source": [
    "test = pd.read_json(\"test-data.json\",\"r\", encoding=\"utf8\")\n",
    "train = pd.read_json(\"train-data.json\",\"r\", encoding=\"utf8\")"
   ]
  },
  {
   "cell_type": "code",
   "execution_count": 23,
   "metadata": {},
   "outputs": [],
   "source": [
    "df = pd.concat([test,train])"
   ]
  },
  {
   "cell_type": "code",
   "execution_count": 24,
   "metadata": {},
   "outputs": [
    {
     "data": {
      "text/html": [
       "<div>\n",
       "<style scoped>\n",
       "    .dataframe tbody tr th:only-of-type {\n",
       "        vertical-align: middle;\n",
       "    }\n",
       "\n",
       "    .dataframe tbody tr th {\n",
       "        vertical-align: top;\n",
       "    }\n",
       "\n",
       "    .dataframe thead th {\n",
       "        text-align: right;\n",
       "    }\n",
       "</style>\n",
       "<table border=\"1\" class=\"dataframe\">\n",
       "  <thead>\n",
       "    <tr style=\"text-align: right;\">\n",
       "      <th></th>\n",
       "      <th>_id</th>\n",
       "      <th>corrected_question</th>\n",
       "      <th>intermediary_question</th>\n",
       "      <th>sparql_query</th>\n",
       "      <th>sparql_template_id</th>\n",
       "    </tr>\n",
       "  </thead>\n",
       "  <tbody>\n",
       "    <tr>\n",
       "      <th>0</th>\n",
       "      <td>1701</td>\n",
       "      <td>Which architect of Marine Corps Air Station Ka...</td>\n",
       "      <td>What is the &lt;architect&gt; of the &lt;Marine Corps A...</td>\n",
       "      <td>SELECT DISTINCT ?uri WHERE { &lt;http://dbpedia....</td>\n",
       "      <td>16</td>\n",
       "    </tr>\n",
       "    <tr>\n",
       "      <th>1</th>\n",
       "      <td>3293</td>\n",
       "      <td>Which sects people are part of local political...</td>\n",
       "      <td>What is the &lt;faith&gt; of the &lt;political parties&gt;...</td>\n",
       "      <td>SELECT DISTINCT ?uri WHERE { ?x &lt;http://dbpedi...</td>\n",
       "      <td>305</td>\n",
       "    </tr>\n",
       "    <tr>\n",
       "      <th>2</th>\n",
       "      <td>2161</td>\n",
       "      <td>List common systems are developed by of the Go...</td>\n",
       "      <td>What is the &lt;developed by&gt; of the &lt;Google Vide...</td>\n",
       "      <td>SELECT DISTINCT ?uri WHERE { &lt;http://dbpedia....</td>\n",
       "      <td>16</td>\n",
       "    </tr>\n",
       "    <tr>\n",
       "      <th>3</th>\n",
       "      <td>1136</td>\n",
       "      <td>For which games are Sam Loyd and Eric Schiller...</td>\n",
       "      <td>What is the &lt;known for&gt; of the &lt;Sam Loyd&gt; and ...</td>\n",
       "      <td>SELECT DISTINCT ?uri WHERE { &lt;http://dbpedia.o...</td>\n",
       "      <td>15</td>\n",
       "    </tr>\n",
       "    <tr>\n",
       "      <th>4</th>\n",
       "      <td>987</td>\n",
       "      <td>Is Peter Piper Pizza in the pizza industry?</td>\n",
       "      <td>Is &lt;Peter Piper Pizza&gt; the &lt;field of exercise&gt;...</td>\n",
       "      <td>ASK WHERE { &lt;http://dbpedia.org/resource/Peter...</td>\n",
       "      <td>152</td>\n",
       "    </tr>\n",
       "  </tbody>\n",
       "</table>\n",
       "</div>"
      ],
      "text/plain": [
       "    _id                                 corrected_question  \\\n",
       "0  1701  Which architect of Marine Corps Air Station Ka...   \n",
       "1  3293  Which sects people are part of local political...   \n",
       "2  2161  List common systems are developed by of the Go...   \n",
       "3  1136  For which games are Sam Loyd and Eric Schiller...   \n",
       "4   987        Is Peter Piper Pizza in the pizza industry?   \n",
       "\n",
       "                               intermediary_question  \\\n",
       "0  What is the <architect> of the <Marine Corps A...   \n",
       "1  What is the <faith> of the <political parties>...   \n",
       "2  What is the <developed by> of the <Google Vide...   \n",
       "3  What is the <known for> of the <Sam Loyd> and ...   \n",
       "4  Is <Peter Piper Pizza> the <field of exercise>...   \n",
       "\n",
       "                                        sparql_query  sparql_template_id  \n",
       "0   SELECT DISTINCT ?uri WHERE { <http://dbpedia....                  16  \n",
       "1  SELECT DISTINCT ?uri WHERE { ?x <http://dbpedi...                 305  \n",
       "2   SELECT DISTINCT ?uri WHERE { <http://dbpedia....                  16  \n",
       "3  SELECT DISTINCT ?uri WHERE { <http://dbpedia.o...                  15  \n",
       "4  ASK WHERE { <http://dbpedia.org/resource/Peter...                 152  "
      ]
     },
     "execution_count": 24,
     "metadata": {},
     "output_type": "execute_result"
    }
   ],
   "source": [
    "df.head()"
   ]
  },
  {
   "cell_type": "code",
   "execution_count": 25,
   "metadata": {},
   "outputs": [
    {
     "data": {
      "text/plain": [
       "(5000, 5)"
      ]
     },
     "execution_count": 25,
     "metadata": {},
     "output_type": "execute_result"
    }
   ],
   "source": [
    "df.shape"
   ]
  },
  {
   "cell_type": "code",
   "execution_count": 26,
   "metadata": {},
   "outputs": [
    {
     "data": {
      "text/plain": [
       "(1000, 5)"
      ]
     },
     "execution_count": 26,
     "metadata": {},
     "output_type": "execute_result"
    }
   ],
   "source": [
    "test.shape"
   ]
  },
  {
   "cell_type": "code",
   "execution_count": 27,
   "metadata": {},
   "outputs": [],
   "source": [
    "def preprocess_label(review):\n",
    "    review_text = review\n",
    "    words = review_text.split()\n",
    "    return (words)\n",
    "def labels_to_sentences(label):\n",
    "    raw_sentences = sent_tokenize(label.strip())\n",
    "    sentences = []\n",
    "    for raw_sentence in raw_sentences:\n",
    "        if len(raw_sentence)>0:\n",
    "            sentences.append(preprocess_label(raw_sentence))\n",
    "    return sentences"
   ]
  },
  {
   "cell_type": "code",
   "execution_count": 30,
   "metadata": {},
   "outputs": [
    {
     "data": {
      "text/plain": [
       "10162"
      ]
     },
     "execution_count": 30,
     "metadata": {},
     "output_type": "execute_result"
    }
   ],
   "source": [
    "sentences = []\n",
    "for x in df.sparql_query.apply(str):\n",
    "    sentences += labels_to_sentences(x)\n",
    "len(sentences)    "
   ]
  },
  {
   "cell_type": "code",
   "execution_count": 31,
   "metadata": {},
   "outputs": [],
   "source": [
    "num_features = 300  \n",
    "min_word_count = 1\n",
    "num_workers = 4     \n",
    "context = 10       \n",
    "downsampling = 1e-3 # (0.001) \n",
    "\n",
    "from gensim.models import word2vec\n",
    "model = word2vec.Word2Vec(sentences,\\\n",
    "                          workers=num_workers,\\\n",
    "                          size=num_features,\\\n",
    "                          min_count=min_word_count,\\\n",
    "                          window=context,\n",
    "                          sample=downsampling,\n",
    "                          sg = 1\n",
    "                         )\n",
    "\n",
    "model.init_sims(replace=True)"
   ]
  },
  {
   "cell_type": "code",
   "execution_count": 32,
   "metadata": {},
   "outputs": [
    {
     "data": {
      "text/plain": [
       "(4772, 300)"
      ]
     },
     "execution_count": 32,
     "metadata": {},
     "output_type": "execute_result"
    }
   ],
   "source": [
    "model.wv.vectors.shape"
   ]
  },
  {
   "cell_type": "code",
   "execution_count": 38,
   "metadata": {},
   "outputs": [
    {
     "data": {
      "text/plain": [
       "[('<http://dbpedia.org/ontology/VideoGame>}', 0.8688365817070007),\n",
       " ('<http://dbpedia.org/ontology/Stadium>}', 0.8639969825744629),\n",
       " ('<http://www.w3.org/1999/02/22-rdf-syntax-ns#type>', 0.8630322217941284),\n",
       " ('<http://dbpedia.org/ontology/Software>}', 0.8386920094490051),\n",
       " ('<http://dbpedia.org/ontology/MilitaryUnit>}', 0.8346012830734253),\n",
       " ('<http://dbpedia.org/ontology/SoccerClubSeason>}', 0.81864333152771),\n",
       " ('<http://dbpedia.org/ontology/BroadcastNetwork>}', 0.8127313852310181),\n",
       " ('<http://dbpedia.org/ontology/EducationalInstitution>}', 0.8118859529495239),\n",
       " ('<http://dbpedia.org/ontology/Building>}', 0.8009661436080933),\n",
       " ('<http://dbpedia.org/ontology/Politician>}', 0.7992528080940247)]"
      ]
     },
     "execution_count": 38,
     "metadata": {},
     "output_type": "execute_result"
    }
   ],
   "source": [
    "model.wv.most_similar(\"<http://dbpedia.org/ontology/Musical>}\")"
   ]
  },
  {
   "cell_type": "code",
   "execution_count": 36,
   "metadata": {},
   "outputs": [
    {
     "data": {
      "text/plain": [
       "[('DISTINCT', 0.9657090306282043),\n",
       " ('COUNT(?uri)', 0.9650171995162964),\n",
       " ('.', 0.964745044708252),\n",
       " ('?uri.', 0.9607105851173401),\n",
       " ('}', 0.9601176381111145),\n",
       " ('?x', 0.9488901495933533),\n",
       " ('?uri', 0.9366395473480225),\n",
       " ('{', 0.9314072132110596),\n",
       " ('{?uri', 0.9292231798171997),\n",
       " ('SELECT', 0.9277162551879883)]"
      ]
     },
     "execution_count": 36,
     "metadata": {},
     "output_type": "execute_result"
    }
   ],
   "source": [
    "model.wv.most_similar(\"WHERE\")"
   ]
  },
  {
   "cell_type": "code",
   "execution_count": 37,
   "metadata": {},
   "outputs": [
    {
     "data": {
      "text/plain": [
       "[('.', 0.9721692204475403),\n",
       " ('COUNT(?uri)', 0.968413233757019),\n",
       " ('?uri.', 0.9658728837966919),\n",
       " ('}', 0.9658405184745789),\n",
       " ('{', 0.958430290222168),\n",
       " ('?x', 0.9583249688148499),\n",
       " ('DISTINCT', 0.9575579762458801),\n",
       " ('{?uri', 0.9532997608184814),\n",
       " ('ASK', 0.9387346506118774),\n",
       " ('?uri', 0.9384315013885498)]"
      ]
     },
     "execution_count": 37,
     "metadata": {},
     "output_type": "execute_result"
    }
   ],
   "source": [
    "model.wv.most_similar(\"SELECT\")"
   ]
  },
  {
   "cell_type": "code",
   "execution_count": null,
   "metadata": {},
   "outputs": [],
   "source": []
  }
 ],
 "metadata": {
  "kernelspec": {
   "display_name": "Python 3",
   "language": "python",
   "name": "python3"
  },
  "language_info": {
   "codemirror_mode": {
    "name": "ipython",
    "version": 3
   },
   "file_extension": ".py",
   "mimetype": "text/x-python",
   "name": "python",
   "nbconvert_exporter": "python",
   "pygments_lexer": "ipython3",
   "version": "3.7.7"
  }
 },
 "nbformat": 4,
 "nbformat_minor": 4
}
