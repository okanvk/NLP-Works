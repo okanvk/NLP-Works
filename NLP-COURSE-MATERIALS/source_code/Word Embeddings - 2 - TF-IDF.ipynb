{
 "cells": [
  {
   "cell_type": "code",
   "execution_count": 10,
   "metadata": {},
   "outputs": [
    {
     "name": "stdout",
     "output_type": "stream",
     "text": [
      "{'thank': 84, 'you': 98, 'all': 5, 'so': 73, 'very': 94, 'much': 51, 'to': 88, 'the': 85, 'have': 35, 'in': 37, 'this': 87, 'for': 31, 'their': 86, 'unbelievable': 92, 'was': 95, 'of': 54, 'an': 7, 'and': 9, 'first': 30, 'off': 55, 'my': 52, 'endeavor': 25, 'mr': 50, 'tom': 89, 'your': 99, 'talent': 81, 'on': 56, 'screen': 67, 'only': 57, 'be': 15, 'surpassed': 78, 'by': 18, 'as': 12, 'history': 36, 'into': 39, 'years': 97, 'are': 10, 'cinematic': 20, 'everyone': 28, 'at': 13, 'regency': 64, 'ana': 8, 'from': 33, 'me': 48, 'teaching': 82, 'art': 11, 'form': 32, 'industry': 38, 'lorem': 46, 'ipsum': 40, 'is': 41, 'simply': 71, 'dummy': 24, 'text': 83, 'typesetting': 91, 'has': 34, 'standard': 77, 'since': 72, '1500s': 1, 'type': 90, 'it': 42, 'specimen': 76, 'book': 17, 'survived': 79, 'not': 53, 'also': 6, 'with': 96, 'release': 65, 'sheets': 70, 'more': 49, 'recently': 63, 'publishing': 60, 'software': 74, 'versions': 93, 'popular': 58, 'random': 62, 'classical': 21, 'latin': 43, 'literature': 45, '45': 4, 'bc': 14, 'professor': 59, 'sydney': 80, 'source': 75, 'comes': 22, 'sections': 69, '10': 0, '32': 2, '33': 3, 'de': 23, 'finibus': 29, 'bonorum': 16, 'et': 27, 'malorum': 47, 'cicero': 19, 'line': 44, 'section': 68, 'reproduced': 66, 'english': 26, 'rackham': 61}\n",
      "[2.65822808 2.94591015 2.65822808 2.94591015 2.94591015 2.94591015\n",
      " 2.94591015 2.65822808 3.35137526 1.84729786 2.65822808 3.35137526\n",
      " 3.35137526 2.94591015 2.94591015 2.94591015 2.94591015 2.94591015\n",
      " 2.65822808 2.94591015 2.94591015 2.94591015 2.94591015 2.94591015\n",
      " 2.94591015 2.94591015 3.35137526 2.94591015 2.94591015 2.94591015\n",
      " 2.65822808 2.09861229 2.94591015 2.09861229 2.65822808 2.65822808\n",
      " 3.35137526 1.74193734 2.65822808 2.94591015 2.09861229 2.43508453\n",
      " 2.43508453 2.94591015 3.35137526 2.94591015 2.09861229 2.94591015\n",
      " 2.65822808 2.94591015 2.25276297 2.94591015 2.65822808 2.94591015\n",
      " 1.47957308 2.94591015 2.94591015 2.94591015 2.94591015 3.35137526\n",
      " 3.35137526 3.35137526 3.35137526 3.35137526 3.35137526 3.35137526\n",
      " 2.94591015 3.35137526 3.35137526 2.94591015 3.35137526 2.94591015\n",
      " 2.94591015 2.94591015 3.35137526 3.35137526 3.35137526 2.94591015\n",
      " 3.35137526 3.35137526 3.35137526 2.94591015 3.35137526 2.65822808\n",
      " 2.25276297 1.33647224 2.94591015 1.9650809  1.74193734 2.94591015\n",
      " 3.35137526 2.94591015 2.94591015 2.94591015 2.65822808 2.94591015\n",
      " 3.35137526 2.94591015 1.9650809  2.94591015]\n"
     ]
    }
   ],
   "source": [
    "from sklearn.feature_extraction.text import TfidfVectorizer\n",
    "paragraph = \"Thank Thank Thank you all so very much. Thank you to The Academy. I have to congratulate the other incredible nominees in this room for their unbelievable performances.The Revenant was the product of an unbelievable cast and crew I got to work alongside. First off, to my brother in this endeavor, Mr. Tom Hardy. Tom, your fierice talent on screen can only be surpassed off screen by Mr. Alejandro Inarritu. As the history of cinema unfolds, you have forged your way into history this past two years. What an unbelievable talent you are.Thank you to you and [Emmanuel] Chivo [Lubezki] for creating a transcendent cinematic experience for all of us.Thank you to everyone at Fox and Regency. Ana Melching, you were the champion of this endeavor.I have to thank everyone from the very onset of my career — Mr. [Unclear name] Jones for casting me in my first film. Mr. Scorsese for teaching me so much about the cinematic art form. To Mr. Rick Yorn, thank you for helping me navigate this industry. And, to my parents, none of this would be possible without you, and, to my friends, I love you dearly, you know who you are.Lorem Ipsum is simply dummy text of the printing and typesetting industry. Lorem Ipsum has been the industry's standard dummy text ever since the 1500s, when an unknown printer took a galley of type and scrambled it to make a type specimen book. It has survived not only five centuries, but also the leap into electronic typesetting, remaining essentially unchanged. It was popularised in the 1960s with the release of Letraset sheets containing Lorem Ipsum passages, and more recently with desktop publishing software like Aldus PageMaker including versions of Lorem Ipsum.Contrary to popular belief, Lorem Ipsum is not simply random text. It has roots in a piece of classical Latin literature from 45 BC, making it over 2000 years old. Richard McClintock, a Latin professor at Hampden-Sydney College in Virginia, looked up one of the more obscure Latin words, consectetur, from a Lorem Ipsum passage, and going through the cites of the word in classical literature, discovered the undoubtable source. Lorem Ipsum comes from sections 1.10.32 and 1.10.33 of de Finibus Bonorum et Malorum (The Extremes of Good and Evil) by Cicero, written in 45 BC. This book is a treatise on the theory of ethics, very popular during the Renaissance. The first line of Lorem Ipsum, comes from a line in section 1.10.32.The standard chunk of Lorem Ipsum used since the 1500s is reproduced below for those interested. Sections 1.10.32 and 1.10.33 from de Finibus Bonorum et Malorum by Cicero are also reproduced in their exact original form, accompanied by English versions from the 1914 translation by H. Rackham.\"\n",
    "paragraph_lower = paragraph.lower()\n",
    "sentences = []\n",
    "from nltk.tokenize import sent_tokenize\n",
    "for sentence in sent_tokenize(paragraph_lower):\n",
    "    sentences.append(sentence)\n",
    "vectorizer = TfidfVectorizer(max_features=100)\n",
    "vectorizer.fit(sentences)\n",
    "print(vectorizer.vocabulary_)\n",
    "print(vectorizer.idf_)"
   ]
  },
  {
   "cell_type": "code",
   "execution_count": 11,
   "metadata": {},
   "outputs": [
    {
     "name": "stdout",
     "output_type": "stream",
     "text": [
      "(1, 100)\n",
      "[[0.         0.         0.         0.         0.         0.32406439\n",
      "  0.         0.         0.         0.         0.         0.\n",
      "  0.         0.         0.         0.         0.         0.\n",
      "  0.         0.         0.         0.         0.         0.\n",
      "  0.         0.         0.         0.         0.         0.\n",
      "  0.         0.         0.         0.         0.         0.\n",
      "  0.         0.         0.         0.         0.         0.\n",
      "  0.         0.         0.         0.         0.         0.\n",
      "  0.         0.         0.         0.32406439 0.         0.\n",
      "  0.         0.         0.         0.         0.         0.\n",
      "  0.         0.         0.         0.         0.         0.\n",
      "  0.         0.         0.         0.         0.         0.\n",
      "  0.         0.32406439 0.         0.         0.         0.\n",
      "  0.         0.         0.         0.         0.         0.\n",
      "  0.74344452 0.         0.         0.         0.         0.\n",
      "  0.         0.         0.         0.         0.29241797 0.\n",
      "  0.         0.         0.21616842 0.        ]]\n"
     ]
    }
   ],
   "source": [
    "vector = vectorizer.transform([sentences[0]])\n",
    "print(vector.shape)\n",
    "print(vector.toarray())"
   ]
  },
  {
   "cell_type": "code",
   "execution_count": 12,
   "metadata": {},
   "outputs": [
    {
     "data": {
      "text/plain": [
       "'thank thank thank you all so very much.'"
      ]
     },
     "execution_count": 12,
     "metadata": {},
     "output_type": "execute_result"
    }
   ],
   "source": [
    "sent_tokenize(paragraph_lower)[0]"
   ]
  },
  {
   "cell_type": "code",
   "execution_count": 17,
   "metadata": {},
   "outputs": [
    {
     "name": "stdout",
     "output_type": "stream",
     "text": [
      "[[0.         0.         0.         0.         0.         0.89442719\n",
      "  0.         0.         0.         0.         0.         0.\n",
      "  0.         0.         0.         0.         0.         0.\n",
      "  0.         0.         0.         0.         0.         0.\n",
      "  0.         0.         0.         0.         0.         0.\n",
      "  0.         0.         0.         0.         0.         0.\n",
      "  0.         0.         0.         0.         0.         0.\n",
      "  0.         0.         0.         0.         0.         0.\n",
      "  0.         0.         0.         0.         0.         0.\n",
      "  0.         0.         0.         0.         0.         0.\n",
      "  0.         0.         0.         0.         0.         0.\n",
      "  0.         0.         0.         0.         0.         0.\n",
      "  0.         0.4472136  0.         0.         0.         0.\n",
      "  0.         0.         0.         0.         0.         0.\n",
      "  0.         0.         0.         0.         0.         0.\n",
      "  0.         0.         0.         0.         0.         0.\n",
      "  0.         0.         0.         0.        ]]\n"
     ]
    }
   ],
   "source": [
    "text2 = [\"all all so\"]\n",
    "vector = vectorizer.transform(text2)\n",
    "print(vector.toarray())"
   ]
  },
  {
   "cell_type": "code",
   "execution_count": null,
   "metadata": {},
   "outputs": [],
   "source": []
  },
  {
   "cell_type": "code",
   "execution_count": null,
   "metadata": {},
   "outputs": [],
   "source": []
  }
 ],
 "metadata": {
  "kernelspec": {
   "display_name": "Python 3",
   "language": "python",
   "name": "python3"
  },
  "language_info": {
   "codemirror_mode": {
    "name": "ipython",
    "version": 3
   },
   "file_extension": ".py",
   "mimetype": "text/x-python",
   "name": "python",
   "nbconvert_exporter": "python",
   "pygments_lexer": "ipython3",
   "version": "3.7.3"
  }
 },
 "nbformat": 4,
 "nbformat_minor": 4
}
