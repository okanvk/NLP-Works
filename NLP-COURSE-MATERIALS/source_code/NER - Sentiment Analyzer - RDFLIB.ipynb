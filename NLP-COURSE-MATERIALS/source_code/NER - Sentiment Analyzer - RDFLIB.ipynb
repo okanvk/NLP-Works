{
 "cells": [
  {
   "cell_type": "code",
   "execution_count": 1,
   "metadata": {},
   "outputs": [],
   "source": [
    "import spacy\n",
    "from pprint import pprint\n",
    "nlp = spacy.load(\"en\")"
   ]
  },
  {
   "cell_type": "code",
   "execution_count": 2,
   "metadata": {},
   "outputs": [
    {
     "name": "stdout",
     "output_type": "stream",
     "text": [
      "[('Trump', 'NORP'), ('US', 'GPE')]\n"
     ]
    }
   ],
   "source": [
    "trump_negative_doc = nlp(\"As much as I hate the Trump administration,I hate as US\")\n",
    "pprint([(X.text, X.label_) for X in trump_negative_doc.ents])"
   ]
  },
  {
   "cell_type": "code",
   "execution_count": 4,
   "metadata": {},
   "outputs": [
    {
     "name": "stdout",
     "output_type": "stream",
     "text": [
      "[('Mustafa Kemal Atatürk', 'PERSON'), ('Turkey', 'GPE')]\n"
     ]
    }
   ],
   "source": [
    "ataturk_positive_doc = nlp('Mustafa Kemal Atatürk who is the creator of Turkey, the greatest man in history, I greet by bowing my head with the deepest respect.')\n",
    "pprint([(X.text, X.label_) for X in ataturk_positive_doc.ents])"
   ]
  },
  {
   "cell_type": "code",
   "execution_count": 5,
   "metadata": {},
   "outputs": [],
   "source": [
    "from nltk.sentiment.vader import SentimentIntensityAnalyzer\n",
    "analyzer = SentimentIntensityAnalyzer()"
   ]
  },
  {
   "cell_type": "code",
   "execution_count": 6,
   "metadata": {},
   "outputs": [
    {
     "data": {
      "text/plain": [
       "{'neg': 0.0, 'neu': 0.519, 'pos': 0.481, 'compound': 0.7579}"
      ]
     },
     "execution_count": 6,
     "metadata": {},
     "output_type": "execute_result"
    }
   ],
   "source": [
    "analyzer.polarity_scores(\"This film was amazing.I had a good time.It is fantastic\")"
   ]
  },
  {
   "cell_type": "code",
   "execution_count": 7,
   "metadata": {},
   "outputs": [],
   "source": [
    "def sentiment_analyzer_scores(sentence):\n",
    "    score = analyzer.polarity_scores(sentence)\n",
    "    if score['neg'] > score['pos']:\n",
    "        return -1\n",
    "    else:\n",
    "        return 1"
   ]
  },
  {
   "cell_type": "code",
   "execution_count": 8,
   "metadata": {},
   "outputs": [
    {
     "name": "stdout",
     "output_type": "stream",
     "text": [
      "-1\n"
     ]
    }
   ],
   "source": [
    "trump_review_sentiment = sentiment_analyzer_scores(trump_negative_doc.text)\n",
    "print(trump_review_sentiment)"
   ]
  },
  {
   "cell_type": "code",
   "execution_count": 9,
   "metadata": {},
   "outputs": [
    {
     "name": "stdout",
     "output_type": "stream",
     "text": [
      "1\n"
     ]
    }
   ],
   "source": [
    "atatur_review_sentiment = sentiment_analyzer_scores(ataturk_positive_doc.text)\n",
    "print(atatur_review_sentiment)"
   ]
  },
  {
   "cell_type": "code",
   "execution_count": 11,
   "metadata": {},
   "outputs": [],
   "source": [
    "from rdflib import Graph, URIRef, Namespace"
   ]
  },
  {
   "cell_type": "code",
   "execution_count": 12,
   "metadata": {},
   "outputs": [
    {
     "name": "stderr",
     "output_type": "stream",
     "text": [
      "//anaconda3/envs/nlpCourse/lib/python3.7/site-packages/SPARQLWrapper/Wrapper.py:595: UserWarning: keepalive support not available, so the execution of this method has no effect\n",
      "  warnings.warn(\"keepalive support not available, so the execution of this method has no effect\")\n"
     ]
    },
    {
     "name": "stdout",
     "output_type": "stream",
     "text": [
      "SELECT ?o WHERE { <http://dbpedia.org/resource/Mustafa_Kemal_Atatürk> <http://dbpedia.org/ontology/battle> ?o }\n",
      "http://dbpedia.org/resource/Battle_of_Dumlupınar\n"
     ]
    }
   ],
   "source": [
    "from nltk import word_tokenize\n",
    "ataturk_name = \"_\".join(word_tokenize(ataturk_positive_doc.ents[0].text))\n",
    "\n",
    "dbo = Namespace('http://dbpedia.org/ontology/')\n",
    "\n",
    "graph = Graph('SPARQLStore', identifier=\"http://dbpedia.org\")\n",
    "\n",
    "graph.open(\"http://dbpedia.org/sparql\")\n",
    "\n",
    "battle = graph.value(\n",
    "    URIRef(\"http://dbpedia.org/resource/\" + ataturk_name),\n",
    "    dbo.battle)\n",
    "\n",
    "print(graph.store.queryString)\n",
    "\n",
    "print(battle)"
   ]
  },
  {
   "cell_type": "code",
   "execution_count": 76,
   "metadata": {},
   "outputs": [],
   "source": [
    "query = graph.query(\"SELECT ?p ?o{   <http://dbpedia.org/resource/\"+ataturk_name+\"> ?p ?o}\")"
   ]
  },
  {
   "cell_type": "code",
   "execution_count": 77,
   "metadata": {},
   "outputs": [
    {
     "name": "stdout",
     "output_type": "stream",
     "text": [
      "(rdflib.term.URIRef('http://www.w3.org/1999/02/22-rdf-syntax-ns#type'), rdflib.term.URIRef('http://www.w3.org/2002/07/owl#Thing'))\n",
      "(rdflib.term.URIRef('http://www.w3.org/1999/02/22-rdf-syntax-ns#type'), rdflib.term.URIRef('http://xmlns.com/foaf/0.1/Person'))\n",
      "(rdflib.term.URIRef('http://www.w3.org/1999/02/22-rdf-syntax-ns#type'), rdflib.term.URIRef('http://dbpedia.org/ontology/Person'))\n",
      "(rdflib.term.URIRef('http://www.w3.org/1999/02/22-rdf-syntax-ns#type'), rdflib.term.URIRef('http://www.ontologydesignpatterns.org/ont/dul/DUL.owl#Agent'))\n",
      "(rdflib.term.URIRef('http://www.w3.org/1999/02/22-rdf-syntax-ns#type'), rdflib.term.URIRef('http://www.ontologydesignpatterns.org/ont/dul/DUL.owl#NaturalPerson'))\n",
      "(rdflib.term.URIRef('http://www.w3.org/1999/02/22-rdf-syntax-ns#type'), rdflib.term.URIRef('http://www.wikidata.org/entity/Q215627'))\n",
      "(rdflib.term.URIRef('http://www.w3.org/1999/02/22-rdf-syntax-ns#type'), rdflib.term.URIRef('http://www.wikidata.org/entity/Q24229398'))\n",
      "(rdflib.term.URIRef('http://www.w3.org/1999/02/22-rdf-syntax-ns#type'), rdflib.term.URIRef('http://www.wikidata.org/entity/Q5'))\n",
      "(rdflib.term.URIRef('http://www.w3.org/1999/02/22-rdf-syntax-ns#type'), rdflib.term.URIRef('http://dbpedia.org/ontology/Agent'))\n",
      "(rdflib.term.URIRef('http://www.w3.org/1999/02/22-rdf-syntax-ns#type'), rdflib.term.URIRef('http://dbpedia.org/ontology/OfficeHolder'))\n",
      "(rdflib.term.URIRef('http://www.w3.org/1999/02/22-rdf-syntax-ns#type'), rdflib.term.URIRef('http://schema.org/Person'))\n",
      "(rdflib.term.URIRef('http://www.w3.org/1999/02/22-rdf-syntax-ns#type'), rdflib.term.URIRef('http://umbel.org/umbel/rc/PersonWithOccupation'))\n",
      "(rdflib.term.URIRef('http://www.w3.org/1999/02/22-rdf-syntax-ns#type'), rdflib.term.URIRef('http://dbpedia.org/class/yago/WikicatFieldMarshalsOfTurkey'))\n",
      "(rdflib.term.URIRef('http://www.w3.org/1999/02/22-rdf-syntax-ns#type'), rdflib.term.URIRef('http://dbpedia.org/class/yago/WikicatGenerals'))\n",
      "(rdflib.term.URIRef('http://www.w3.org/1999/02/22-rdf-syntax-ns#type'), rdflib.term.URIRef('http://dbpedia.org/class/yago/WikicatInventorsOfWritingSystems'))\n",
      "(rdflib.term.URIRef('http://www.w3.org/1999/02/22-rdf-syntax-ns#type'), rdflib.term.URIRef('http://dbpedia.org/class/yago/WikicatSpeakersOfTheParliamentOfTurkey'))\n",
      "(rdflib.term.URIRef('http://www.w3.org/1999/02/22-rdf-syntax-ns#type'), rdflib.term.URIRef('http://dbpedia.org/class/yago/WikicatTurkishNationalists'))\n",
      "(rdflib.term.URIRef('http://www.w3.org/1999/02/22-rdf-syntax-ns#type'), rdflib.term.URIRef('http://dbpedia.org/class/yago/WikicatTurkishPeople'))\n",
      "(rdflib.term.URIRef('http://www.w3.org/1999/02/22-rdf-syntax-ns#type'), rdflib.term.URIRef('http://dbpedia.org/class/yago/WikicatTurkishPoliticians'))\n",
      "(rdflib.term.URIRef('http://www.w3.org/1999/02/22-rdf-syntax-ns#type'), rdflib.term.URIRef('http://dbpedia.org/class/yago/WikicatTurkishRevolutionaries'))\n",
      "(rdflib.term.URIRef('http://www.w3.org/1999/02/22-rdf-syntax-ns#type'), rdflib.term.URIRef('http://dbpedia.org/class/yago/Administrator109770949'))\n",
      "(rdflib.term.URIRef('http://www.w3.org/1999/02/22-rdf-syntax-ns#type'), rdflib.term.URIRef('http://dbpedia.org/class/yago/Agnostic109779124'))\n",
      "(rdflib.term.URIRef('http://www.w3.org/1999/02/22-rdf-syntax-ns#type'), rdflib.term.URIRef('http://dbpedia.org/class/yago/Alumnus109786338'))\n",
      "(rdflib.term.URIRef('http://www.w3.org/1999/02/22-rdf-syntax-ns#type'), rdflib.term.URIRef('http://dbpedia.org/class/yago/Articulator109811712'))\n",
      "(rdflib.term.URIRef('http://www.w3.org/1999/02/22-rdf-syntax-ns#type'), rdflib.term.URIRef('http://dbpedia.org/class/yago/Authority109824609'))\n",
      "(rdflib.term.URIRef('http://www.w3.org/1999/02/22-rdf-syntax-ns#type'), rdflib.term.URIRef('http://dbpedia.org/class/yago/CausalAgent100007347'))\n",
      "(rdflib.term.URIRef('http://www.w3.org/1999/02/22-rdf-syntax-ns#type'), rdflib.term.URIRef('http://dbpedia.org/class/yago/CommissionedMilitaryOfficer109943239'))\n",
      "(rdflib.term.URIRef('http://www.w3.org/1999/02/22-rdf-syntax-ns#type'), rdflib.term.URIRef('http://dbpedia.org/class/yago/CommissionedOfficer109942970'))\n",
      "(rdflib.term.URIRef('http://www.w3.org/1999/02/22-rdf-syntax-ns#type'), rdflib.term.URIRef('http://dbpedia.org/class/yago/Communicator109610660'))\n",
      "(rdflib.term.URIRef('http://www.w3.org/1999/02/22-rdf-syntax-ns#type'), rdflib.term.URIRef('http://dbpedia.org/class/yago/Creator109614315'))\n",
      "(rdflib.term.URIRef('http://www.w3.org/1999/02/22-rdf-syntax-ns#type'), rdflib.term.URIRef('http://dbpedia.org/class/yago/Defender109614684'))\n",
      "(rdflib.term.URIRef('http://www.w3.org/1999/02/22-rdf-syntax-ns#type'), rdflib.term.URIRef('http://dbpedia.org/class/yago/Deputy110005548'))\n",
      "(rdflib.term.URIRef('http://www.w3.org/1999/02/22-rdf-syntax-ns#type'), rdflib.term.URIRef('http://dbpedia.org/class/yago/Executive110069645'))\n",
      "(rdflib.term.URIRef('http://www.w3.org/1999/02/22-rdf-syntax-ns#type'), rdflib.term.URIRef('http://dbpedia.org/class/yago/FieldMarshal110086821'))\n",
      "(rdflib.term.URIRef('http://www.w3.org/1999/02/22-rdf-syntax-ns#type'), rdflib.term.URIRef('http://dbpedia.org/class/yago/General110123844'))\n",
      "(rdflib.term.URIRef('http://www.w3.org/1999/02/22-rdf-syntax-ns#type'), rdflib.term.URIRef('http://dbpedia.org/class/yago/GeneralOfficer110125786'))\n",
      "(rdflib.term.URIRef('http://www.w3.org/1999/02/22-rdf-syntax-ns#type'), rdflib.term.URIRef('http://dbpedia.org/class/yago/Head110162991'))\n",
      "(rdflib.term.URIRef('http://www.w3.org/1999/02/22-rdf-syntax-ns#type'), rdflib.term.URIRef('http://dbpedia.org/class/yago/HeadOfState110164747'))\n",
      "(rdflib.term.URIRef('http://www.w3.org/1999/02/22-rdf-syntax-ns#type'), rdflib.term.URIRef('http://dbpedia.org/class/yago/Hero110325013'))\n",
      "(rdflib.term.URIRef('http://www.w3.org/1999/02/22-rdf-syntax-ns#type'), rdflib.term.URIRef('http://dbpedia.org/class/yago/Holder110180178'))\n",
      "(rdflib.term.URIRef('http://www.w3.org/1999/02/22-rdf-syntax-ns#type'), rdflib.term.URIRef('http://dbpedia.org/class/yago/Intellectual109621545'))\n",
      "(rdflib.term.URIRef('http://www.w3.org/1999/02/22-rdf-syntax-ns#type'), rdflib.term.URIRef('http://dbpedia.org/class/yago/Inventor110214637'))\n",
      "(rdflib.term.URIRef('http://www.w3.org/1999/02/22-rdf-syntax-ns#type'), rdflib.term.URIRef('http://dbpedia.org/class/yago/Lawman110249459'))\n",
      "(rdflib.term.URIRef('http://www.w3.org/1999/02/22-rdf-syntax-ns#type'), rdflib.term.URIRef('http://dbpedia.org/class/yago/Leader109623038'))\n",
      "(rdflib.term.URIRef('http://www.w3.org/1999/02/22-rdf-syntax-ns#type'), rdflib.term.URIRef('http://dbpedia.org/class/yago/LivingThing100004258'))\n",
      "(rdflib.term.URIRef('http://www.w3.org/1999/02/22-rdf-syntax-ns#type'), rdflib.term.URIRef('http://dbpedia.org/class/yago/Marshal110295951'))\n",
      "(rdflib.term.URIRef('http://www.w3.org/1999/02/22-rdf-syntax-ns#type'), rdflib.term.URIRef('http://dbpedia.org/class/yago/Marshal110296176'))\n",
      "(rdflib.term.URIRef('http://www.w3.org/1999/02/22-rdf-syntax-ns#type'), rdflib.term.URIRef('http://dbpedia.org/class/yago/MilitaryOfficer110317007'))\n",
      "(rdflib.term.URIRef('http://www.w3.org/1999/02/22-rdf-syntax-ns#type'), rdflib.term.URIRef('http://dbpedia.org/class/yago/Minister110320863'))\n",
      "(rdflib.term.URIRef('http://www.w3.org/1999/02/22-rdf-syntax-ns#type'), rdflib.term.URIRef('http://dbpedia.org/class/yago/National109625401'))\n",
      "(rdflib.term.URIRef('http://www.w3.org/1999/02/22-rdf-syntax-ns#type'), rdflib.term.URIRef('http://dbpedia.org/class/yago/Negotiator110351874'))\n",
      "(rdflib.term.URIRef('http://www.w3.org/1999/02/22-rdf-syntax-ns#type'), rdflib.term.URIRef('http://dbpedia.org/class/yago/Object100002684'))\n",
      "(rdflib.term.URIRef('http://www.w3.org/1999/02/22-rdf-syntax-ns#type'), rdflib.term.URIRef('http://dbpedia.org/class/yago/Officeholder110371450'))\n",
      "(rdflib.term.URIRef('http://www.w3.org/1999/02/22-rdf-syntax-ns#type'), rdflib.term.URIRef('http://dbpedia.org/class/yago/Official110372373'))\n",
      "(rdflib.term.URIRef('http://www.w3.org/1999/02/22-rdf-syntax-ns#type'), rdflib.term.URIRef('http://dbpedia.org/class/yago/Organism100004475'))\n",
      "(rdflib.term.URIRef('http://www.w3.org/1999/02/22-rdf-syntax-ns#type'), rdflib.term.URIRef('http://dbpedia.org/class/yago/Owner110389398'))\n",
      "(rdflib.term.URIRef('http://www.w3.org/1999/02/22-rdf-syntax-ns#type'), rdflib.term.URIRef('http://dbpedia.org/class/yago/Pasha110403768'))\n",
      "(rdflib.term.URIRef('http://www.w3.org/1999/02/22-rdf-syntax-ns#type'), rdflib.term.URIRef('http://dbpedia.org/class/yago/Patriot110407310'))\n",
      "(rdflib.term.URIRef('http://www.w3.org/1999/02/22-rdf-syntax-ns#type'), rdflib.term.URIRef('http://dbpedia.org/class/yago/Person100007846'))\n",
      "(rdflib.term.URIRef('http://www.w3.org/1999/02/22-rdf-syntax-ns#type'), rdflib.term.URIRef('http://dbpedia.org/class/yago/PhysicalEntity100001930'))\n",
      "(rdflib.term.URIRef('http://www.w3.org/1999/02/22-rdf-syntax-ns#type'), rdflib.term.URIRef('http://dbpedia.org/class/yago/Politician110450303'))\n",
      "(rdflib.term.URIRef('http://www.w3.org/1999/02/22-rdf-syntax-ns#type'), rdflib.term.URIRef('http://dbpedia.org/class/yago/Preserver110466918'))\n",
      "(rdflib.term.URIRef('http://www.w3.org/1999/02/22-rdf-syntax-ns#type'), rdflib.term.URIRef('http://dbpedia.org/class/yago/President110467179'))\n",
      "(rdflib.term.URIRef('http://www.w3.org/1999/02/22-rdf-syntax-ns#type'), rdflib.term.URIRef('http://dbpedia.org/class/yago/Radical110503452'))\n",
      "(rdflib.term.URIRef('http://www.w3.org/1999/02/22-rdf-syntax-ns#type'), rdflib.term.URIRef('http://dbpedia.org/class/yago/Representative110522035'))\n",
      "(rdflib.term.URIRef('http://www.w3.org/1999/02/22-rdf-syntax-ns#type'), rdflib.term.URIRef('http://dbpedia.org/class/yago/Revolutionist110527334'))\n",
      "(rdflib.term.URIRef('http://www.w3.org/1999/02/22-rdf-syntax-ns#type'), rdflib.term.URIRef('http://dbpedia.org/class/yago/Scholar110557854'))\n",
      "(rdflib.term.URIRef('http://www.w3.org/1999/02/22-rdf-syntax-ns#type'), rdflib.term.URIRef('http://dbpedia.org/class/yago/Serviceman110582746'))\n",
      "(rdflib.term.URIRef('http://www.w3.org/1999/02/22-rdf-syntax-ns#type'), rdflib.term.URIRef('http://dbpedia.org/class/yago/SkilledWorker110605985'))\n",
      "(rdflib.term.URIRef('http://www.w3.org/1999/02/22-rdf-syntax-ns#type'), rdflib.term.URIRef('http://dbpedia.org/class/yago/Speaker110630188'))\n",
      "(rdflib.term.URIRef('http://www.w3.org/1999/02/22-rdf-syntax-ns#type'), rdflib.term.URIRef('http://dbpedia.org/class/yago/Whole100003553'))\n",
      "(rdflib.term.URIRef('http://www.w3.org/1999/02/22-rdf-syntax-ns#type'), rdflib.term.URIRef('http://dbpedia.org/class/yago/Worker109632518'))\n",
      "(rdflib.term.URIRef('http://www.w3.org/1999/02/22-rdf-syntax-ns#type'), rdflib.term.URIRef('http://dbpedia.org/class/yago/YagoLegalActor'))\n",
      "(rdflib.term.URIRef('http://www.w3.org/1999/02/22-rdf-syntax-ns#type'), rdflib.term.URIRef('http://dbpedia.org/class/yago/YagoLegalActorGeo'))\n",
      "(rdflib.term.URIRef('http://www.w3.org/1999/02/22-rdf-syntax-ns#type'), rdflib.term.URIRef('http://dbpedia.org/class/yago/WikicatDeputiesOfAnkara'))\n",
      "(rdflib.term.URIRef('http://www.w3.org/1999/02/22-rdf-syntax-ns#type'), rdflib.term.URIRef('http://dbpedia.org/class/yago/WikicatDeputyPrimeMinistersOfTurkey'))\n",
      "(rdflib.term.URIRef('http://www.w3.org/1999/02/22-rdf-syntax-ns#type'), rdflib.term.URIRef('http://dbpedia.org/class/yago/WikicatAgnostics'))\n",
      "(rdflib.term.URIRef('http://www.w3.org/1999/02/22-rdf-syntax-ns#type'), rdflib.term.URIRef(\"http://dbpedia.org/class/yago/WikicatLeadersOfTheRepublicanPeople'sParty(Turkey)\"))\n",
      "(rdflib.term.URIRef('http://www.w3.org/1999/02/22-rdf-syntax-ns#type'), rdflib.term.URIRef('http://dbpedia.org/class/yago/WikicatLeadersWhoTookPowerByCoup'))\n",
      "(rdflib.term.URIRef('http://www.w3.org/1999/02/22-rdf-syntax-ns#type'), rdflib.term.URIRef('http://dbpedia.org/class/yago/WikicatMarshals'))\n",
      "(rdflib.term.URIRef('http://www.w3.org/1999/02/22-rdf-syntax-ns#type'), rdflib.term.URIRef('http://dbpedia.org/class/yago/WikicatMonastirMilitaryHighSchoolAlumni'))\n",
      "(rdflib.term.URIRef('http://www.w3.org/1999/02/22-rdf-syntax-ns#type'), rdflib.term.URIRef('http://dbpedia.org/class/yago/WikicatNationalHeroes'))\n",
      "(rdflib.term.URIRef('http://www.w3.org/1999/02/22-rdf-syntax-ns#type'), rdflib.term.URIRef('http://dbpedia.org/class/yago/WikicatNationalists'))\n",
      "(rdflib.term.URIRef('http://www.w3.org/1999/02/22-rdf-syntax-ns#type'), rdflib.term.URIRef('http://dbpedia.org/class/yago/WikicatOttomanGenerals'))\n",
      "(rdflib.term.URIRef('http://www.w3.org/1999/02/22-rdf-syntax-ns#type'), rdflib.term.URIRef('http://dbpedia.org/class/yago/WikicatOttomanMilitaryAcademyAlumni'))\n",
      "(rdflib.term.URIRef('http://www.w3.org/1999/02/22-rdf-syntax-ns#type'), rdflib.term.URIRef('http://dbpedia.org/class/yago/WikicatOttomanMilitaryCollegeAlumni'))\n",
      "(rdflib.term.URIRef('http://www.w3.org/1999/02/22-rdf-syntax-ns#type'), rdflib.term.URIRef('http://dbpedia.org/class/yago/WikicatOttomanPeopleOfWorldWarI'))\n",
      "(rdflib.term.URIRef('http://www.w3.org/1999/02/22-rdf-syntax-ns#type'), rdflib.term.URIRef('http://dbpedia.org/class/yago/WikicatPashas'))\n",
      "(rdflib.term.URIRef('http://www.w3.org/1999/02/22-rdf-syntax-ns#type'), rdflib.term.URIRef('http://dbpedia.org/class/yago/WikicatPeopleFromSalonicaVilayet'))\n",
      "(rdflib.term.URIRef('http://www.w3.org/1999/02/22-rdf-syntax-ns#type'), rdflib.term.URIRef('http://dbpedia.org/class/yago/WikicatPeopleFromThessaloniki'))\n",
      "(rdflib.term.URIRef('http://www.w3.org/1999/02/22-rdf-syntax-ns#type'), rdflib.term.URIRef('http://dbpedia.org/class/yago/WikicatPeopleOfTheDersimRebellion'))\n",
      "(rdflib.term.URIRef('http://www.w3.org/1999/02/22-rdf-syntax-ns#type'), rdflib.term.URIRef('http://dbpedia.org/class/yago/WikicatPeopleOfWorldWarI'))\n",
      "(rdflib.term.URIRef('http://www.w3.org/1999/02/22-rdf-syntax-ns#type'), rdflib.term.URIRef('http://dbpedia.org/class/yago/WikicatPresidentsOfTurkey'))\n",
      "(rdflib.term.URIRef('http://www.w3.org/1999/02/22-rdf-syntax-ns#type'), rdflib.term.URIRef('http://dbpedia.org/class/yago/WikicatPrimeMinistersOfTurkey'))\n",
      "(rdflib.term.URIRef('http://www.w3.org/1999/02/22-rdf-syntax-ns#type'), rdflib.term.URIRef('http://dbpedia.org/class/yago/WikicatRevolutionaries'))\n",
      "(rdflib.term.URIRef('http://www.w3.org/2000/01/rdf-schema#label'), rdflib.term.Literal('Mustafa Kemal Atatürk', lang='en'))\n",
      "(rdflib.term.URIRef('http://www.w3.org/2000/01/rdf-schema#label'), rdflib.term.Literal('مصطفى كمال أتاتورك', lang='ar'))\n",
      "(rdflib.term.URIRef('http://www.w3.org/2000/01/rdf-schema#label'), rdflib.term.Literal('Mustafa Kemal Atatürk', lang='de'))\n",
      "(rdflib.term.URIRef('http://www.w3.org/2000/01/rdf-schema#label'), rdflib.term.Literal('Mustafa Kemal Atatürk', lang='es'))\n",
      "(rdflib.term.URIRef('http://www.w3.org/2000/01/rdf-schema#label'), rdflib.term.Literal('Mustafa Kemal Atatürk', lang='it'))\n",
      "(rdflib.term.URIRef('http://www.w3.org/2000/01/rdf-schema#label'), rdflib.term.Literal('Mustafa Kemal Atatürk', lang='fr'))\n",
      "(rdflib.term.URIRef('http://www.w3.org/2000/01/rdf-schema#label'), rdflib.term.Literal('ムスタファ・ケマル・アタテュルク', lang='ja'))\n",
      "(rdflib.term.URIRef('http://www.w3.org/2000/01/rdf-schema#label'), rdflib.term.Literal('Mustafa Kemal Atatürk', lang='nl'))\n",
      "(rdflib.term.URIRef('http://www.w3.org/2000/01/rdf-schema#label'), rdflib.term.Literal('Mustafa Kemal Atatürk', lang='pl'))\n",
      "(rdflib.term.URIRef('http://www.w3.org/2000/01/rdf-schema#label'), rdflib.term.Literal('Mustafa Kemal Atatürk', lang='pt'))\n",
      "(rdflib.term.URIRef('http://www.w3.org/2000/01/rdf-schema#label'), rdflib.term.Literal('Ататюрк, Мустафа Кемаль', lang='ru'))\n",
      "(rdflib.term.URIRef('http://www.w3.org/2000/01/rdf-schema#label'), rdflib.term.Literal('穆斯塔法·凯末尔·阿塔图尔克', lang='zh'))\n",
      "(rdflib.term.URIRef('http://www.w3.org/2000/01/rdf-schema#comment'), rdflib.term.Literal('مصطفى كمال أتاتورك (بالتركية: Mustafa Kemal Atatürk) (ولد في 19 مايو 1881 - توفي 10 نوفمبر 1938) وهو قائد الحركة التركية الوطنية التي حدثت في أعقاب الحرب العالمية الأولى، وهو الذي أوقع الهزيمة في جيش اليونانيين في الحرب التركية اليونانية عام 1922، وبعد انسحاب قوات الحلفاء من الأراضي التركية جعل عاصمته مدينة أنقرة، وأسس جمهورية تركيا الحديثة، فألغى الخلافة الإسلامية وأعلن علمانية الدولة. ولقد أطلق عليهِ اسم الذئب الأغبر، واسم أتاتورك (أبو الأتراك) وذلك للبصمة الواضحة التي تركها عسكرياً في الحرب العالمية الأولى وما بعدها وسياسياً بعد ذلك وحتى الآن في بناء نظام جمهورية تركيا الحديثة.', lang='ar'))\n",
      "(rdflib.term.URIRef('http://www.w3.org/2000/01/rdf-schema#comment'), rdflib.term.Literal('ムスタファ・ケマル・アタテュルク（Mustafa Kemal Atatürk、1881年5月19日 - 1938年11月10日）は、オスマン帝国の将軍、トルコ共和国の元帥、初代大統領（在任1923年10月29日 - 1938年11月10日）。トルコ独立戦争とトルコ革命を僚友たちとともに指導したことで知られる。', lang='ja'))\n",
      "(rdflib.term.URIRef('http://www.w3.org/2000/01/rdf-schema#comment'), rdflib.term.Literal('Mustafa Kemal Pasja, sinds 1934 met de achternaam Atatürk (Thessaloniki, 19 mei 1881 – Istanboel, 10 november 1938), was een Ottomaanse en later Turkse legerofficier, schrijver, politicus en grondlegger van de republiek Turkije, waarvan hij de eerste president was.', lang='nl'))\n",
      "(rdflib.term.URIRef('http://www.w3.org/2000/01/rdf-schema#comment'), rdflib.term.Literal('Mustafa Kemal Atatürk (ur. 19 maja 1881 w Salonikach, zm. 10 listopada 1938 w Stambule) – turecki polityk, wojskowy, współtwórca i pierwszy prezydent Republiki Turcji. W trakcie I wojny światowej był jednym z ważniejszych dowódców armii Imperium Osmańskiego. Po klęsce w wojnie sprzeciwił się rozbiorom Turcji i stanął na czele wojny o niepodległość. W niepodległej Turcji objął urząd prezydenta, przeprowadzając szereg reform politycznych, gospodarczych i kulturalnych, przekształcając Imperium Osmańskie w nowoczesne i świeckie państwo narodowe. Jego działania dały początek ideologii kemalistycznej.', lang='pl'))\n",
      "(rdflib.term.URIRef('http://www.w3.org/2000/01/rdf-schema#comment'), rdflib.term.Literal('穆斯塔法·凱末爾·阿塔图尔克（土耳其语：Mustafa Kemal Atatürk，1881年5月19日－1938年11月10日）是土耳其的軍官、改革家、作家和領導人，土耳其共和國第一任總統、總理及國民議會議長，被譽為現代土耳其的肇建者。生于萨洛尼卡（今希腊境内），木商家庭出身。1934年11月24日，土耳其國會向凱末爾賜予「Atatürk」一姓，在土耳其语「Ata」就是父親，「Atatürk」（阿塔图尔克）就是“土耳其人之父”之意。中文学术界在论述时习惯上仍称为凯末尔。 凱末爾最為人所知是他在一戰傑出的軍事能力，同時伴隨著奧斯曼帝國的崩解，他帶領土耳其國民運動並成功在安卡拉建立獨立政府，他打敗當時協約國所帶領的同盟軍隊，並以傑出的優越能力解放了國家並建立了現今的土耳其共和國，在他就任土耳其領導人的時候，凱末爾進行一連串政治，經濟和文化上的變革，啟蒙土耳其並讓土耳其成為現代化和世俗主義的國家，凱末爾帶領土耳其現代化的作為被稱為凱末爾主義，其中也包括減少伊斯蘭教對政治及教育的影響。', lang='zh'))\n",
      "(rdflib.term.URIRef('http://www.w3.org/2000/01/rdf-schema#comment'), rdflib.term.Literal('Mustafa Kemal Atatürk (pronounced [mustäˈfä ceˈmäl äˈtäˌtyɾc]; 19 May 1881 (conventional) – 10 November 1938) was a Turkish army officer, revolutionary, and founder of the Republic of Turkey, serving as its first President from 1923 until his death in 1938. His surname, Atatürk (meaning \"Father of the Turks\"), was granted to him in 1934 and forbidden to any other person by the Turkish parliament.', lang='en'))\n",
      "(rdflib.term.URIRef('http://www.w3.org/2000/01/rdf-schema#comment'), rdflib.term.Literal('Mustafa Kemal Pascha, seit 1934 mit dem Nachnamen Atatürk (osmanisch مصطفى كمال پاشا Muṣṭafâ Kemâl Paşa; * 1881 in Selânik, heute Thessaloniki; † 10. November 1938 in Istanbul), war der Begründer der Republik Türkei und von 1923 bis 1938 erster Präsident der nach dem Ersten Weltkrieg aus dem Osmanischen Reich hervorgegangenen modernen Republik.', lang='de'))\n",
      "(rdflib.term.URIRef('http://www.w3.org/2000/01/rdf-schema#comment'), rdflib.term.Literal('Mustafa Kemal Atatürk, hasta 1934 Gazi Mustafa Kemal Paşa (Tesalónica, Grecia otomana, 19 de mayo de 1881-Estambul, 10 de noviembre de 1938), fue un oficial del ejército turco y célebre estadista turco, así como el fundador y primer presidente de la República de Turquía. Mustafa Kemal se consagró como general de renombre al mando de una división en la batalla de Galípoli. Después de la derrota del Imperio otomano y la ocupación de Constantinopla entre 1918 y 1923 a manos de los Aliados y la partición del Imperio otomano, Mustafa Kemal encabezó el Movimiento Nacional turco, que desembocaría en la Guerra de Independencia Turca o Kurtuluş Savaşı —«Guerra de Liberación»—. Sus brillantes campañas militares condujeron a la liberación del país y al establecimiento de la República de Turquía. Como', lang='es'))\n",
      "(rdflib.term.URIRef('http://www.w3.org/2000/01/rdf-schema#comment'), rdflib.term.Literal(\"Mustafa Kemal Pacha, à partir de 1934 Atatürk (en turc ottoman \\u200fمصطفى كمال پاشا Muṣṭafâ Kemâl Paşa), né en 1881 à Salonique et mort à Istanbul le 10 novembre 1938, est un homme d'État turc, fondateur et le premier président de la République de Turquie de 1923 à 1938. Mustafa Kemal affirme également une volonté farouche de rupture avec le passé impérial ottoman et de réformes radicales pour son pays. Il meurt d’une cirrhose le 10 novembre 1938. Au cours de funérailles nationales, il est enterré au musée ethnographique d’Ankara. Son corps repose aujourd’hui dans le mausolée dit de l’Anıtkabir.\", lang='fr'))\n",
      "(rdflib.term.URIRef('http://www.w3.org/2000/01/rdf-schema#comment'), rdflib.term.Literal('Mustafa Kemal Atatürk (Salônica, 1881 — Istambul, 10 de novembro de 1938) foi um oficial do exército, estadista revolucionário e fundador da República da Turquia, assim como o seu primeiro presidente. Mustafa Kemal se estabeleceu como um líder militar extremamente capaz e inteligente enquanto servia como comandante de divisão na Batalha de Galípoli. Posteriormente lutou com bravura nas frentes de batalha da Anatólia e Palestina, conquistando algum renome para si durante a Primeira Guerra Mundial. Com a derrota sofrida pelo Império Otomano nas mãos dos Aliados, e os planos subsequentes para a partilha de seu território, Mustafa Kemal liderou o Movimento Nacional Turco naquela que se se tornaria conhecida posteriormente como a Guerra de Independência Turca; após estabelecer um governo provis', lang='pt'))\n",
      "(rdflib.term.URIRef('http://www.w3.org/2000/01/rdf-schema#comment'), rdflib.term.Literal('Мустафа́ Кема́ль Ататю́рк; Гази Мустафа Кемаль-паша (тур. Mustafa Kemal Atatürk; 1881 — 10 ноября 1938) — османский и турецкий реформатор, политик, государственный деятель и военачальник; основатель и первый лидер Республиканской народной партии Турции; первый президент Турецкой Республики, основатель современного турецкого государства. Входит в список 100 самых изученных личностей в истории.', lang='ru'))\n",
      "(rdflib.term.URIRef('http://www.w3.org/2000/01/rdf-schema#seeAlso'), rdflib.term.URIRef('http://dbpedia.org/resource/Treaty_of_Lausanne'))\n",
      "(rdflib.term.URIRef('http://www.w3.org/2000/01/rdf-schema#seeAlso'), rdflib.term.URIRef('http://dbpedia.org/resource/The_Soviet_Union'))\n",
      "(rdflib.term.URIRef('http://www.w3.org/2000/01/rdf-schema#seeAlso'), rdflib.term.URIRef('http://dbpedia.org/resource/Death'))\n",
      "(rdflib.term.URIRef('http://www.w3.org/2000/01/rdf-schema#seeAlso'), rdflib.term.URIRef('http://dbpedia.org/resource/Russia–Turkey_relations'))\n",
      "(rdflib.term.URIRef('http://www.w3.org/2000/01/rdf-schema#seeAlso'), rdflib.term.URIRef('http://dbpedia.org/resource/Battle_of_Tobruk_(1911)'))\n",
      "(rdflib.term.URIRef('http://www.w3.org/2000/01/rdf-schema#seeAlso'), rdflib.term.URIRef('http://dbpedia.org/resource/Gallipoli_Campaign'))\n",
      "(rdflib.term.URIRef('http://www.w3.org/2000/01/rdf-schema#seeAlso'), rdflib.term.URIRef('http://dbpedia.org/resource/First_Balkan_War'))\n",
      "(rdflib.term.URIRef('http://www.w3.org/2000/01/rdf-schema#seeAlso'), rdflib.term.URIRef(\"http://dbpedia.org/resource/Mustafa_Kemal_Atatürk's_personal_life\"))\n",
      "(rdflib.term.URIRef('http://www.w3.org/2000/01/rdf-schema#seeAlso'), rdflib.term.URIRef('http://dbpedia.org/resource/Vatan_ve_Hürriyet'))\n",
      "(rdflib.term.URIRef('http://www.w3.org/2000/01/rdf-schema#seeAlso'), rdflib.term.URIRef(\"http://dbpedia.org/resource/Mustafa_Kemal_Atatürk's_leadership_of_the_independence_war\"))\n",
      "(rdflib.term.URIRef('http://www.w3.org/2000/01/rdf-schema#seeAlso'), rdflib.term.URIRef('http://dbpedia.org/resource/State_funeral_of_Mustafa_Kemal_Atatürk'))\n",
      "(rdflib.term.URIRef('http://www.w3.org/2002/07/owl#sameAs'), rdflib.term.URIRef('http://www.wikidata.org/entity/Q5152'))\n",
      "(rdflib.term.URIRef('http://www.w3.org/2002/07/owl#sameAs'), rdflib.term.URIRef('http://cs.dbpedia.org/resource/Mustafa_Kemal_Atatürk'))\n",
      "(rdflib.term.URIRef('http://www.w3.org/2002/07/owl#sameAs'), rdflib.term.URIRef('http://de.dbpedia.org/resource/Mustafa_Kemal_Atatürk'))\n",
      "(rdflib.term.URIRef('http://www.w3.org/2002/07/owl#sameAs'), rdflib.term.URIRef('http://el.dbpedia.org/resource/Μουσταφά_Κεμάλ_Ατατούρκ'))\n",
      "(rdflib.term.URIRef('http://www.w3.org/2002/07/owl#sameAs'), rdflib.term.URIRef('http://es.dbpedia.org/resource/Mustafa_Kemal_Atatürk'))\n",
      "(rdflib.term.URIRef('http://www.w3.org/2002/07/owl#sameAs'), rdflib.term.URIRef('http://eu.dbpedia.org/resource/Kemal_Atatürk'))\n",
      "(rdflib.term.URIRef('http://www.w3.org/2002/07/owl#sameAs'), rdflib.term.URIRef('http://fr.dbpedia.org/resource/Mustafa_Kemal_Atatürk'))\n",
      "(rdflib.term.URIRef('http://www.w3.org/2002/07/owl#sameAs'), rdflib.term.URIRef('http://id.dbpedia.org/resource/Mustafa_Kemal_Atatürk'))\n",
      "(rdflib.term.URIRef('http://www.w3.org/2002/07/owl#sameAs'), rdflib.term.URIRef('http://it.dbpedia.org/resource/Mustafa_Kemal_Atatürk'))\n",
      "(rdflib.term.URIRef('http://www.w3.org/2002/07/owl#sameAs'), rdflib.term.URIRef('http://ja.dbpedia.org/resource/ムスタファ・ケマル・アタテュルク'))\n",
      "(rdflib.term.URIRef('http://www.w3.org/2002/07/owl#sameAs'), rdflib.term.URIRef('http://ko.dbpedia.org/resource/무스타파_케말_아타튀르크'))\n",
      "(rdflib.term.URIRef('http://www.w3.org/2002/07/owl#sameAs'), rdflib.term.URIRef('http://nl.dbpedia.org/resource/Mustafa_Kemal_Atatürk'))\n",
      "(rdflib.term.URIRef('http://www.w3.org/2002/07/owl#sameAs'), rdflib.term.URIRef('http://pl.dbpedia.org/resource/Mustafa_Kemal_Atatürk'))\n",
      "(rdflib.term.URIRef('http://www.w3.org/2002/07/owl#sameAs'), rdflib.term.URIRef('http://pt.dbpedia.org/resource/Mustafa_Kemal_Atatürk'))\n",
      "(rdflib.term.URIRef('http://www.w3.org/2002/07/owl#sameAs'), rdflib.term.URIRef('http://wikidata.dbpedia.org/resource/Q5152'))\n",
      "(rdflib.term.URIRef('http://www.w3.org/2002/07/owl#sameAs'), rdflib.term.URIRef('http://dbpedia.org/resource/Mustafa_Kemal_Atatürk'))\n",
      "(rdflib.term.URIRef('http://www.w3.org/2002/07/owl#sameAs'), rdflib.term.URIRef('http://data.europa.eu/euodp/jrc-names/Mustafa_Kemal_Atat%C3%BCrk'))\n",
      "(rdflib.term.URIRef('http://www.w3.org/2002/07/owl#sameAs'), rdflib.term.URIRef('http://data.nytimes.com/52805865008782520533'))\n",
      "(rdflib.term.URIRef('http://www.w3.org/2002/07/owl#sameAs'), rdflib.term.URIRef('http://viaf.org/viaf/87758727'))\n",
      "(rdflib.term.URIRef('http://www.w3.org/2002/07/owl#sameAs'), rdflib.term.URIRef('http://rdf.freebase.com/ns/m.04t6f_'))\n",
      "(rdflib.term.URIRef('http://www.w3.org/2002/07/owl#sameAs'), rdflib.term.URIRef('http://yago-knowledge.org/resource/Mustafa_Kemal_Atatürk'))\n",
      "(rdflib.term.URIRef('http://www.w3.org/2002/07/owl#sameAs'), rdflib.term.URIRef('http://d-nb.info/gnd/118650793'))\n",
      "(rdflib.term.URIRef('http://dbpedia.org/ontology/deathPlace'), rdflib.term.URIRef('http://dbpedia.org/resource/Istanbul'))\n",
      "(rdflib.term.URIRef('http://dbpedia.org/ontology/deathPlace'), rdflib.term.URIRef('http://dbpedia.org/resource/Dolmabahçe_Palace'))\n",
      "(rdflib.term.URIRef('http://dbpedia.org/ontology/deathPlace'), rdflib.term.URIRef('http://dbpedia.org/resource/Turkey'))\n",
      "(rdflib.term.URIRef('http://dbpedia.org/ontology/deathDate'), rdflib.term.Literal('1938-11-10', datatype=rdflib.term.URIRef('http://www.w3.org/2001/XMLSchema#date')))\n",
      "(rdflib.term.URIRef('http://dbpedia.org/ontology/birthPlace'), rdflib.term.URIRef('http://dbpedia.org/resource/Ottoman_Empire'))\n",
      "(rdflib.term.URIRef('http://dbpedia.org/ontology/birthPlace'), rdflib.term.URIRef('http://dbpedia.org/resource/Thessaloniki'))\n",
      "(rdflib.term.URIRef('http://dbpedia.org/ontology/birthPlace'), rdflib.term.URIRef('http://dbpedia.org/resource/Salonica_Vilayet'))\n",
      "(rdflib.term.URIRef('http://dbpedia.org/ontology/birthDate'), rdflib.term.Literal('1881-05-19', datatype=rdflib.term.URIRef('http://www.w3.org/2001/XMLSchema#date')))\n",
      "(rdflib.term.URIRef('http://dbpedia.org/ontology/birthDate'), rdflib.term.Literal('1881-01-01', datatype=rdflib.term.URIRef('http://www.w3.org/2001/XMLSchema#date')))\n",
      "(rdflib.term.URIRef('http://purl.org/dc/terms/subject'), rdflib.term.URIRef('http://dbpedia.org/resource/Category:Dolmabahçe_Palace'))\n",
      "(rdflib.term.URIRef('http://purl.org/dc/terms/subject'), rdflib.term.URIRef('http://dbpedia.org/resource/Category:Pan-Turkists'))\n",
      "(rdflib.term.URIRef('http://purl.org/dc/terms/subject'), rdflib.term.URIRef('http://dbpedia.org/resource/Category:Recipients_of_the_Order_of_Saint_Alexander_(Bulgaria)'))\n",
      "(rdflib.term.URIRef('http://purl.org/dc/terms/subject'), rdflib.term.URIRef('http://dbpedia.org/resource/Category:Macedonian_Turks'))\n",
      "(rdflib.term.URIRef('http://purl.org/dc/terms/subject'), rdflib.term.URIRef('http://dbpedia.org/resource/Category:Pashas'))\n",
      "(rdflib.term.URIRef('http://purl.org/dc/terms/subject'), rdflib.term.URIRef('http://dbpedia.org/resource/Category:Ottoman_Military_Academy_alumni'))\n",
      "(rdflib.term.URIRef('http://purl.org/dc/terms/subject'), rdflib.term.URIRef('http://dbpedia.org/resource/Category:Recipients_of_the_Imtiyaz_Medal'))\n",
      "(rdflib.term.URIRef('http://purl.org/dc/terms/subject'), rdflib.term.URIRef('http://dbpedia.org/resource/Category:Turkish_nationalists'))\n",
      "(rdflib.term.URIRef('http://purl.org/dc/terms/subject'), rdflib.term.URIRef('http://dbpedia.org/resource/Category:Field_marshals_of_Turkey'))\n",
      "(rdflib.term.URIRef('http://purl.org/dc/terms/subject'), rdflib.term.URIRef('http://dbpedia.org/resource/Category:1881_births'))\n",
      "(rdflib.term.URIRef('http://purl.org/dc/terms/subject'), rdflib.term.URIRef('http://dbpedia.org/resource/Category:1938_deaths'))\n",
      "(rdflib.term.URIRef('http://purl.org/dc/terms/subject'), rdflib.term.URIRef('http://dbpedia.org/resource/Category:Articles_containing_video_clips'))\n",
      "(rdflib.term.URIRef('http://purl.org/dc/terms/subject'), rdflib.term.URIRef('http://dbpedia.org/resource/Category:Deaths_from_cirrhosis'))\n",
      "(rdflib.term.URIRef('http://purl.org/dc/terms/subject'), rdflib.term.URIRef('http://dbpedia.org/resource/Category:Deputies_of_Ankara'))\n",
      "(rdflib.term.URIRef('http://purl.org/dc/terms/subject'), rdflib.term.URIRef(\"http://dbpedia.org/resource/Category:Leaders_of_the_Republican_People's_Party_(Turkey)\"))\n",
      "(rdflib.term.URIRef('http://purl.org/dc/terms/subject'), rdflib.term.URIRef(\"http://dbpedia.org/resource/Category:Légion_d'honneur_recipients\"))\n",
      "(rdflib.term.URIRef('http://purl.org/dc/terms/subject'), rdflib.term.URIRef('http://dbpedia.org/resource/Category:Ottoman_Military_College_alumni'))\n",
      "(rdflib.term.URIRef('http://purl.org/dc/terms/subject'), rdflib.term.URIRef('http://dbpedia.org/resource/Category:Ottoman_Turks'))\n",
      "(rdflib.term.URIRef('http://purl.org/dc/terms/subject'), rdflib.term.URIRef('http://dbpedia.org/resource/Category:Ottoman_military_personnel_of_World_War_I'))\n",
      "(rdflib.term.URIRef('http://purl.org/dc/terms/subject'), rdflib.term.URIRef('http://dbpedia.org/resource/Category:People_of_the_Dersim_massacre'))\n",
      "(rdflib.term.URIRef('http://purl.org/dc/terms/subject'), rdflib.term.URIRef('http://dbpedia.org/resource/Category:Presidents_of_Turkey'))\n",
      "(rdflib.term.URIRef('http://purl.org/dc/terms/subject'), rdflib.term.URIRef('http://dbpedia.org/resource/Category:Prime_Ministers_of_Turkey'))\n",
      "(rdflib.term.URIRef('http://purl.org/dc/terms/subject'), rdflib.term.URIRef('http://dbpedia.org/resource/Category:Recipients_of_the_Iron_Cross_(1914),_1st_class'))\n",
      "(rdflib.term.URIRef('http://purl.org/dc/terms/subject'), rdflib.term.URIRef('http://dbpedia.org/resource/Category:Recipients_of_the_Medal_of_Independence_with_Red-Green_Ribbon_(Turkey)'))\n",
      "(rdflib.term.URIRef('http://purl.org/dc/terms/subject'), rdflib.term.URIRef('http://dbpedia.org/resource/Category:Recipients_of_the_Order_of_the_Medjidie,_1st_class'))\n",
      "(rdflib.term.URIRef('http://purl.org/dc/terms/subject'), rdflib.term.URIRef('http://dbpedia.org/resource/Category:Turkish_military_personnel_of_the_Greco-Turkish_War_(1919–22)'))\n",
      "(rdflib.term.URIRef('http://purl.org/dc/terms/subject'), rdflib.term.URIRef('http://dbpedia.org/resource/Category:Turkish_secularists'))\n",
      "(rdflib.term.URIRef('http://purl.org/dc/terms/subject'), rdflib.term.URIRef('http://dbpedia.org/resource/Category:Members_of_the_Special_Organization_of_the_Ottoman_Empire'))\n",
      "(rdflib.term.URIRef('http://purl.org/dc/terms/subject'), rdflib.term.URIRef('http://dbpedia.org/resource/Category:Monastir_Military_High_School_alumni'))\n",
      "(rdflib.term.URIRef('http://purl.org/dc/terms/subject'), rdflib.term.URIRef('http://dbpedia.org/resource/Category:Ottoman_military_personnel_of_the_Italo-Turkish_War'))\n",
      "(rdflib.term.URIRef('http://purl.org/dc/terms/subject'), rdflib.term.URIRef('http://dbpedia.org/resource/Category:Ottoman_generals'))\n",
      "(rdflib.term.URIRef('http://purl.org/dc/terms/subject'), rdflib.term.URIRef('http://dbpedia.org/resource/Category:People_from_Salonica_Vilayet'))\n",
      "(rdflib.term.URIRef('http://purl.org/dc/terms/subject'), rdflib.term.URIRef('http://dbpedia.org/resource/Category:Witnesses_of_the_Armenian_Genocide'))\n",
      "(rdflib.term.URIRef('http://purl.org/dc/terms/subject'), rdflib.term.URIRef('http://dbpedia.org/resource/Category:Committee_of_Union_and_Progress_politicians'))\n",
      "(rdflib.term.URIRef('http://purl.org/dc/terms/subject'), rdflib.term.URIRef('http://dbpedia.org/resource/Category:Republicanism_in_Turkey'))\n",
      "(rdflib.term.URIRef('http://purl.org/dc/terms/subject'), rdflib.term.URIRef('http://dbpedia.org/resource/Category:Secularism_in_Turkey'))\n",
      "(rdflib.term.URIRef('http://purl.org/dc/terms/subject'), rdflib.term.URIRef('http://dbpedia.org/resource/Category:Mustafa_Kemal_Atatürk'))\n",
      "(rdflib.term.URIRef('http://purl.org/dc/terms/subject'), rdflib.term.URIRef('http://dbpedia.org/resource/Category:People_from_Thessaloniki'))\n",
      "(rdflib.term.URIRef('http://purl.org/dc/terms/subject'), rdflib.term.URIRef('http://dbpedia.org/resource/Category:Speakers_of_the_Parliament_of_Turkey'))\n",
      "(rdflib.term.URIRef('http://purl.org/dc/terms/subject'), rdflib.term.URIRef('http://dbpedia.org/resource/Category:Ottoman_Thessalonica'))\n",
      "(rdflib.term.URIRef('http://purl.org/dc/terms/subject'), rdflib.term.URIRef('http://dbpedia.org/resource/Category:Ottoman_military_personnel_of_the_Balkan_Wars'))\n",
      "(rdflib.term.URIRef('http://purl.org/dc/terms/subject'), rdflib.term.URIRef('http://dbpedia.org/resource/Category:Recipients_of_the_Liakat_Medal'))\n",
      "(rdflib.term.URIRef('http://purl.org/dc/terms/subject'), rdflib.term.URIRef('http://dbpedia.org/resource/Category:Turkish_revolutionaries'))\n",
      "(rdflib.term.URIRef('http://dbpedia.org/ontology/wikiPageID'), rdflib.term.Literal('1329090', datatype=rdflib.term.URIRef('http://www.w3.org/2001/XMLSchema#integer')))\n",
      "(rdflib.term.URIRef('http://dbpedia.org/ontology/wikiPageRevisionID'), rdflib.term.Literal('744487896', datatype=rdflib.term.URIRef('http://www.w3.org/2001/XMLSchema#integer')))\n",
      "(rdflib.term.URIRef('http://dbpedia.org/ontology/wikiPageExternalLink'), rdflib.term.URIRef('https://web.archive.org/web/20090327060825/http:/www.bilkent.edu.tr/~jast/Number3/Gazo.html'))\n",
      "(rdflib.term.URIRef('http://dbpedia.org/ontology/wikiPageExternalLink'), rdflib.term.URIRef('https://books.google.com/?id=qFhU3kWXLvEC&printsec=frontcover&dq=ataturk+and+islam'))\n",
      "(rdflib.term.URIRef('http://dbpedia.org/ontology/wikiPageExternalLink'), rdflib.term.URIRef('http://bitolatourist.info/things/museum/ataturk.html'))\n",
      "(rdflib.term.URIRef('http://dbpedia.org/ontology/wikiPageExternalLink'), rdflib.term.URIRef('http://www.bilkent.edu.tr/~jast/Number3/Gazo.html'))\n",
      "(rdflib.term.URIRef('http://xmlns.com/foaf/0.1/name'), rdflib.term.Literal('Mustafa Kemal Atatürk', lang='en'))\n",
      "(rdflib.term.URIRef('http://dbpedia.org/property/name'), rdflib.term.Literal('Incredible Turk', datatype=rdflib.term.URIRef('http://www.w3.org/1999/02/22-rdf-syntax-ns#langString')))\n",
      "(rdflib.term.URIRef('http://xmlns.com/foaf/0.1/depiction'), rdflib.term.URIRef('http://commons.wikimedia.org/wiki/Special:FilePath/Ataturk_mirror.png'))\n",
      "(rdflib.term.URIRef('http://purl.org/dc/terms/description'), rdflib.term.Literal('Turkish army officer, revolutionary, and the first President of Turkey', lang='en'))\n",
      "(rdflib.term.URIRef('http://xmlns.com/foaf/0.1/givenName'), rdflib.term.Literal('Kemal', lang='en'))\n",
      "(rdflib.term.URIRef('http://xmlns.com/foaf/0.1/gender'), rdflib.term.Literal('male', lang='en'))\n",
      "(rdflib.term.URIRef('http://xmlns.com/foaf/0.1/isPrimaryTopicOf'), rdflib.term.URIRef('http://en.wikipedia.org/wiki/Mustafa_Kemal_Atatürk'))\n",
      "(rdflib.term.URIRef('http://dbpedia.org/ontology/thumbnail'), rdflib.term.URIRef('http://commons.wikimedia.org/wiki/Special:FilePath/Ataturk_mirror.png?width=300'))\n",
      "(rdflib.term.URIRef('http://www.w3.org/ns/prov#wasDerivedFrom'), rdflib.term.URIRef('http://en.wikipedia.org/wiki/Mustafa_Kemal_Atatürk?oldid=744487896'))\n",
      "(rdflib.term.URIRef('http://dbpedia.org/ontology/abstract'), rdflib.term.Literal('مصطفى كمال أتاتورك (بالتركية: Mustafa Kemal Atatürk) (ولد في 19 مايو 1881 - توفي 10 نوفمبر 1938) وهو قائد الحركة التركية الوطنية التي حدثت في أعقاب الحرب العالمية الأولى، وهو الذي أوقع الهزيمة في جيش اليونانيين في الحرب التركية اليونانية عام 1922، وبعد انسحاب قوات الحلفاء من الأراضي التركية جعل عاصمته مدينة أنقرة، وأسس جمهورية تركيا الحديثة، فألغى الخلافة الإسلامية وأعلن علمانية الدولة. ولقد أطلق عليهِ اسم الذئب الأغبر، واسم أتاتورك (أبو الأتراك) وذلك للبصمة الواضحة التي تركها عسكرياً في الحرب العالمية الأولى وما بعدها وسياسياً بعد ذلك وحتى الآن في بناء نظام جمهورية تركيا الحديثة.', lang='ar'))\n",
      "(rdflib.term.URIRef('http://dbpedia.org/ontology/abstract'), rdflib.term.Literal('Mustafa Kemal Pascha, seit 1934 mit dem Nachnamen Atatürk (osmanisch مصطفى كمال پاشا Muṣṭafâ Kemâl Paşa; * 1881 in Selânik, heute Thessaloniki; † 10. November 1938 in Istanbul), war der Begründer der Republik Türkei und von 1923 bis 1938 erster Präsident der nach dem Ersten Weltkrieg aus dem Osmanischen Reich hervorgegangenen modernen Republik. Seine Verdienste als Offizier bei der Verteidigung der Halbinsel Gallipoli 1915 gegen alliierte Truppen, welche die Dardanellen unter ihre Kontrolle bringen wollten, und ab 1921 der Abwehrkampf gegen die nach Anatolien vorgedrungenen Griechen haben ihn zur Symbolfigur türkischen Selbstbehauptungswillens und Nationalbewusstseins werden lassen. Als Machtpolitiker, der die Modernisierung seines Landes nach westlichem Vorbild beharrlich vorantrieb, hat er mit der Abschaffung von Sultanat und Kalifat sowie mit weitreichenden gesellschaftlichen Reformen einen in dieser Form einmaligen Staatstypus geschaffen. Darauf beruhen – trotz teilweiser Kontroversen über sein Wirken – die personenkultartige Verehrung, die ihm in der Türkei bis heute entgegengebracht wird, und die Unangefochtenheit des ihm 1934 vom türkischen Parlament verliehenen Nachnamens Atatürk (Vater der Türken).', lang='de'))\n",
      "(rdflib.term.URIRef('http://dbpedia.org/ontology/abstract'), rdflib.term.Literal('Mustafa Kemal Atatürk, hasta 1934 Gazi Mustafa Kemal Paşa (Tesalónica, Grecia otomana, 19 de mayo de 1881-Estambul, 10 de noviembre de 1938), fue un oficial del ejército turco y célebre estadista turco, así como el fundador y primer presidente de la República de Turquía. Mustafa Kemal se consagró como general de renombre al mando de una división en la batalla de Galípoli. Después de la derrota del Imperio otomano y la ocupación de Constantinopla entre 1918 y 1923 a manos de los Aliados y la partición del Imperio otomano, Mustafa Kemal encabezó el Movimiento Nacional turco, que desembocaría en la Guerra de Independencia Turca o Kurtuluş Savaşı —«Guerra de Liberación»—. Sus brillantes campañas militares condujeron a la liberación del país y al establecimiento de la República de Turquía. Como primer presidente de la República, Mustafa Kemal impuso una serie de reformas de gran alcance para crear un Estado moderno, democrático y laico. El considerado comúnmente como sobrenombre o título de Atatürk es el nuevo apellido que asignaron unánimemente a Mustafa Kemal como resultado de la Ley sobre los apellidos de 1934. Anteriormente la población carecía de éste, siendo conocidos por su población de origen u ocupación. Esta ley aprobada por la Asamblea Nacional de Turquía (Türkiye Büyük Millet Meclisi) le adjudicó el apellido de «Atatürk» (que significa «Padre» o «antepasado» turco) el 24 de noviembre de 1934.', lang='es'))\n",
      "(rdflib.term.URIRef('http://dbpedia.org/ontology/abstract'), rdflib.term.Literal('Mustafa Kemal Atatürk (pronounced [mustäˈfä ceˈmäl äˈtäˌtyɾc]; 19 May 1881 (conventional) – 10 November 1938) was a Turkish army officer, revolutionary, and founder of the Republic of Turkey, serving as its first President from 1923 until his death in 1938. His surname, Atatürk (meaning \"Father of the Turks\"), was granted to him in 1934 and forbidden to any other person by the Turkish parliament. Atatürk was a military officer during World War I. Following the defeat of the Ottoman Empire in World War I, he led the Turkish National Movement in the Turkish War of Independence. Having established a provisional government in Ankara, he defeated the forces sent by the Allies, eventually leading to victory in the Turkish War of Independence. Atatürk then embarked upon a program of political, economic, and cultural reforms, seeking to transform the former Ottoman Empire into a modern and secular nation-state. Under his leadership, thousands of new schools were built, primary education was made free and compulsory, and women were given equal civil and political rights, while the burden of taxation on peasants was reduced. His government also carried out an extensive policy of Turkification. The principles of Atatürk\\'s reforms, upon which modern Turkey was established, are referred to as Kemalism. His achievements in Turkey are an enduring monument to Atatürk.', lang='en'))\n",
      "(rdflib.term.URIRef('http://dbpedia.org/ontology/abstract'), rdflib.term.Literal(\"Mustafa Kemal Pacha, à partir de 1934 Atatürk (en turc ottoman \\u200fمصطفى كمال پاشا Muṣṭafâ Kemâl Paşa), né en 1881 à Salonique et mort à Istanbul le 10 novembre 1938, est un homme d'État turc, fondateur et le premier président de la République de Turquie de 1923 à 1938. Après la Première Guerre mondiale et l’occupation alliée de l’Empire ottoman, ce militaire de carrière refuse de voir l’Empire ottoman être démembré par le traité de Sèvres. Accompagné de partisans, il se révolte contre le gouvernement impérial et crée un deuxième pouvoir politique à Ankara. C'est de cette ville qu'il mène à la tête de la résistance turque la guerre contre les occupants. Sous son commandement, les forces turques vainquent les armées arméniennes, françaises et italiennes. Puis il défait les armées grecques qui occupent la ville et la région d’Izmir, la Thrace orientale et des îles de la mer Égée (Imbros, aujourd'hui Gökçeada, Ténédos, aujourd’hui Bozcaada, et Moschonisi, aujourd’hui Alibey). Après la bataille du Sangarios (aujourd'hui Sakarya), la Grande Assemblée nationale de Turquie lui donne le titre de Gazi (le victorieux) ; il parvient à repousser définitivement les armées grecques hors de Turquie. À la suite de ces victoires, les forces britanniques choisissent de signer un premier armistice avec lui et s’engagent aussi à quitter le pays. Mustafa Kemal affirme également une volonté farouche de rupture avec le passé impérial ottoman et de réformes radicales pour son pays. Inspiré par la Révolution française, il profite de ce qu’il considère comme une trahison du sultan Mehmed VI lors de l'armistice de Moudros, pour mettre un terme au règne du sultan le 1er novembre 1922. Il instaure ainsi la laïcité: séparation entre les pouvoirs politique (sultanat) et spirituel (califat). Après la proclamation de la République, il déplace la capitale d’Istanbul à Ankara et occidentalise le pays à travers plusieurs réformes. Notamment, il inscrit la laïcité dans la Constitution turque (en), donne le droit de vote aux femmes et remplace l’alphabet arabe par l’alphabet latin. Sous sa présidence autoritaire dotée d'un parti unique, la Turquie a mené une révolution sociale sans précédent, qu’on appelle généralement « révolution kémaliste ». Le 24 novembre 1934, l'Assemblée lui donne le nom d’Atatürk, ce qui ne veut pas dire « père des Turcs », mais le « Turc-Père », au sens de « turc comme l’étaient les anciens », le mot Ata voulant dire ancêtre. Il meurt d’une cirrhose le 10 novembre 1938. Au cours de funérailles nationales, il est enterré au musée ethnographique d’Ankara. Son corps repose aujourd’hui dans le mausolée dit de l’Anıtkabir.\", lang='fr'))\n",
      "(rdflib.term.URIRef('http://dbpedia.org/ontology/abstract'), rdflib.term.Literal('ムスタファ・ケマル・アタテュルク（Mustafa Kemal Atatürk、1881年5月19日 - 1938年11月10日）は、オスマン帝国の将軍、トルコ共和国の元帥、初代大統領（在任1923年10月29日 - 1938年11月10日）。トルコ独立戦争とトルコ革命を僚友たちとともに指導したことで知られる。', lang='ja'))\n",
      "(rdflib.term.URIRef('http://dbpedia.org/ontology/abstract'), rdflib.term.Literal('Mustafa Kemal Pasja, sinds 1934 met de achternaam Atatürk (Thessaloniki, 19 mei 1881 – Istanboel, 10 november 1938), was een Ottomaanse en later Turkse legerofficier, schrijver, politicus en grondlegger van de republiek Turkije, waarvan hij de eerste president was.', lang='nl'))\n",
      "(rdflib.term.URIRef('http://dbpedia.org/ontology/abstract'), rdflib.term.Literal('Mustafa Kemal Atatürk (ur. 19 maja 1881 w Salonikach, zm. 10 listopada 1938 w Stambule) – turecki polityk, wojskowy, współtwórca i pierwszy prezydent Republiki Turcji. W trakcie I wojny światowej był jednym z ważniejszych dowódców armii Imperium Osmańskiego. Po klęsce w wojnie sprzeciwił się rozbiorom Turcji i stanął na czele wojny o niepodległość. W niepodległej Turcji objął urząd prezydenta, przeprowadzając szereg reform politycznych, gospodarczych i kulturalnych, przekształcając Imperium Osmańskie w nowoczesne i świeckie państwo narodowe. Jego działania dały początek ideologii kemalistycznej.', lang='pl'))\n",
      "(rdflib.term.URIRef('http://dbpedia.org/ontology/abstract'), rdflib.term.Literal('Mustafa Kemal Atatürk (Salônica, 1881 — Istambul, 10 de novembro de 1938) foi um oficial do exército, estadista revolucionário e fundador da República da Turquia, assim como o seu primeiro presidente. Mustafa Kemal se estabeleceu como um líder militar extremamente capaz e inteligente enquanto servia como comandante de divisão na Batalha de Galípoli. Posteriormente lutou com bravura nas frentes de batalha da Anatólia e Palestina, conquistando algum renome para si durante a Primeira Guerra Mundial. Com a derrota sofrida pelo Império Otomano nas mãos dos Aliados, e os planos subsequentes para a partilha de seu território, Mustafa Kemal liderou o Movimento Nacional Turco naquela que se se tornaria conhecida posteriormente como a Guerra de Independência Turca; após estabelecer um governo provisório em Ancara, derrotou as forças enviadas pela Tríplice Entente. Suas campanhas militares bem-sucedidas asseguraram a liberação do país e a proclamação da república no lugar do antigo governo imperial otomano. Como primeiro presidente da Turquia, Atatürk embarcou num ambicioso programa de reformas políticas, econômicas e culturais. Um admirador do iluminismo, Atatürk procurou transformar as ruínas do Império Otomano numa nação-Estado democrática e secular. Os princípios das reformas de Atatürk costumam ser chamados de \"kemalismo\", e continuam a formar a fundação política do Estado turco moderno.', lang='pt'))\n",
      "(rdflib.term.URIRef('http://dbpedia.org/ontology/abstract'), rdflib.term.Literal('Мустафа́ Кема́ль Ататю́рк; Гази Мустафа Кемаль-паша (тур. Mustafa Kemal Atatürk; 1881 — 10 ноября 1938) — османский и турецкий реформатор, политик, государственный деятель и военачальник; основатель и первый лидер Республиканской народной партии Турции; первый президент Турецкой Республики, основатель современного турецкого государства. Входит в список 100 самых изученных личностей в истории. Возглавив после поражения (октябрь 1918) Османской империи в Первой мировой войне национально-революционное движение и войну за независимость в Анатолии, добился ликвидации марионеточного правительства султана и оккупационного режима, создал новое, основанное на национализме («суверенитете нации»), республиканское государство, провёл ряд серьёзных политических, социальных и культурных реформ, таких как: ликвидация султаната (1 ноября 1922), провозглашение республики (29 октября 1923), упразднение халифата (3 марта 1924), введение светского обучения, закрытие дервишских орденов, реформа одежды (1925), принятие нового уголовного и гражданского кодексов по европейскому образцу (1926), латинизация алфавита, очищение турецкого языка от арабских и персидских заимствований, отделение религии от государства (1928), предоставление избирательных прав женщинам, отмена титулов и феодальных форм обращения, введение фамилий (1934), создание национальных банков и национальной промышленности. Как председатель Великого национального собрания (1920—1923) и затем (с 29 октября 1923) как президент республики, переизбиравшийся на этот пост каждое четырёхлетие, а также как несменяемый председатель им созданной Народно-республиканской партии, приобрёл в Турции непререкаемый авторитет и диктаторские полномочия.', lang='ru'))\n",
      "(rdflib.term.URIRef('http://dbpedia.org/ontology/abstract'), rdflib.term.Literal('穆斯塔法·凱末爾·阿塔图尔克（土耳其语：Mustafa Kemal Atatürk，1881年5月19日－1938年11月10日）是土耳其的軍官、改革家、作家和領導人，土耳其共和國第一任總統、總理及國民議會議長，被譽為現代土耳其的肇建者。生于萨洛尼卡（今希腊境内），木商家庭出身。1934年11月24日，土耳其國會向凱末爾賜予「Atatürk」一姓，在土耳其语「Ata」就是父親，「Atatürk」（阿塔图尔克）就是“土耳其人之父”之意。中文学术界在论述时习惯上仍称为凯末尔。 凱末爾最為人所知是他在一戰傑出的軍事能力，同時伴隨著奧斯曼帝國的崩解，他帶領土耳其國民運動並成功在安卡拉建立獨立政府，他打敗當時協約國所帶領的同盟軍隊，並以傑出的優越能力解放了國家並建立了現今的土耳其共和國，在他就任土耳其領導人的時候，凱末爾進行一連串政治，經濟和文化上的變革，啟蒙土耳其並讓土耳其成為現代化和世俗主義的國家，凱末爾帶領土耳其現代化的作為被稱為凱末爾主義，其中也包括減少伊斯蘭教對政治及教育的影響。', lang='zh'))\n",
      "(rdflib.term.URIRef('http://dbpedia.org/ontology/award'), rdflib.term.URIRef(\"http://dbpedia.org/resource/List_of_Mustafa_Kemal_Atatürk's_awards\"))\n",
      "(rdflib.term.URIRef('http://dbpedia.org/ontology/battle'), rdflib.term.URIRef('http://dbpedia.org/resource/Battle_of_Dumlupınar'))\n",
      "(rdflib.term.URIRef('http://dbpedia.org/ontology/battle'), rdflib.term.URIRef('http://dbpedia.org/resource/Italo-Turkish_War'))\n",
      "(rdflib.term.URIRef('http://dbpedia.org/ontology/battle'), rdflib.term.URIRef('http://dbpedia.org/resource/Battle_of_Bitlis'))\n",
      "(rdflib.term.URIRef('http://dbpedia.org/ontology/battle'), rdflib.term.URIRef('http://dbpedia.org/resource/Derna,_Libya'))\n",
      "(rdflib.term.URIRef('http://dbpedia.org/ontology/battle'), rdflib.term.URIRef('http://dbpedia.org/resource/Battle_of_Tobruk_(1911)'))\n",
      "(rdflib.term.URIRef('http://dbpedia.org/ontology/battle'), rdflib.term.URIRef('http://dbpedia.org/resource/Battle_of_Chunuk_Bair'))\n",
      "(rdflib.term.URIRef('http://dbpedia.org/ontology/battle'), rdflib.term.URIRef('http://dbpedia.org/resource/Landing_at_Anzac_Cove'))\n",
      "(rdflib.term.URIRef('http://dbpedia.org/ontology/battle'), rdflib.term.URIRef('http://dbpedia.org/resource/Battle_of_Sakarya'))\n",
      "(rdflib.term.URIRef('http://dbpedia.org/ontology/battle'), rdflib.term.URIRef('http://dbpedia.org/resource/World_War_I'))\n",
      "(rdflib.term.URIRef('http://dbpedia.org/ontology/battle'), rdflib.term.URIRef('http://dbpedia.org/resource/Battle_of_Sari_Bair'))\n",
      "(rdflib.term.URIRef('http://dbpedia.org/ontology/battle'), rdflib.term.URIRef('http://dbpedia.org/resource/Battle_of_Scimitar_Hill'))\n",
      "(rdflib.term.URIRef('http://dbpedia.org/ontology/battle'), rdflib.term.URIRef('http://dbpedia.org/resource/Greco-Turkish_War_(1919–1922)'))\n",
      "(rdflib.term.URIRef('http://dbpedia.org/ontology/deputy'), rdflib.term.URIRef('http://dbpedia.org/resource/Fevzi_Çakmak'))\n",
      "(rdflib.term.URIRef('http://dbpedia.org/ontology/militaryBranch'), rdflib.term.URIRef('http://dbpedia.org/resource/Turkish_Army'))\n",
      "(rdflib.term.URIRef('http://dbpedia.org/ontology/militaryCommand'), rdflib.term.Literal('19th Division'))\n",
      "(rdflib.term.URIRef('http://dbpedia.org/ontology/militaryCommand'), rdflib.term.Literal('2nd Army'))\n",
      "(rdflib.term.URIRef('http://dbpedia.org/ontology/militaryCommand'), rdflib.term.Literal('7th Army'))\n",
      "(rdflib.term.URIRef('http://dbpedia.org/ontology/militaryCommand'), rdflib.term.Literal('16th Corps'))\n",
      "(rdflib.term.URIRef('http://dbpedia.org/ontology/militaryCommand'), rdflib.term.Literal('Army ofthe Grand National Assembly'))\n",
      "(rdflib.term.URIRef('http://dbpedia.org/ontology/militaryCommand'), rdflib.term.Literal('Yildirim Army Group'))\n",
      "(rdflib.term.URIRef('http://dbpedia.org/ontology/militaryRank'), rdflib.term.URIRef('http://dbpedia.org/resource/Mareşal_(Turkey)'))\n",
      "(rdflib.term.URIRef('http://dbpedia.org/ontology/nationality'), rdflib.term.URIRef('http://dbpedia.org/resource/Turkish_people'))\n",
      "(rdflib.term.URIRef('http://dbpedia.org/ontology/office'), rdflib.term.Literal(\"Leader of the Republican People's Party\"))\n",
      "(rdflib.term.URIRef('http://dbpedia.org/ontology/office'), rdflib.term.Literal('President of Turkey'))\n",
      "(rdflib.term.URIRef('http://dbpedia.org/ontology/office'), rdflib.term.Literal('Prime Minister of Turkey'))\n",
      "(rdflib.term.URIRef('http://dbpedia.org/ontology/office'), rdflib.term.Literal('Speaker of the Grand National Assembly of Turkey'))\n",
      "(rdflib.term.URIRef('http://dbpedia.org/ontology/orderInOffice'), rdflib.term.Literal('1st'))\n",
      "(rdflib.term.URIRef('http://dbpedia.org/ontology/party'), rdflib.term.URIRef(\"http://dbpedia.org/resource/Republican_People's_Party_(Turkey)\"))\n",
      "(rdflib.term.URIRef('http://dbpedia.org/ontology/primeMinister'), rdflib.term.URIRef('http://dbpedia.org/resource/Ali_Fethi_Okyar'))\n",
      "(rdflib.term.URIRef('http://dbpedia.org/ontology/primeMinister'), rdflib.term.URIRef('http://dbpedia.org/resource/İsmet_İnönü'))\n",
      "(rdflib.term.URIRef('http://dbpedia.org/ontology/primeMinister'), rdflib.term.URIRef('http://dbpedia.org/resource/Celâl_Bayar'))\n",
      "(rdflib.term.URIRef('http://dbpedia.org/ontology/restingPlace'), rdflib.term.URIRef('http://dbpedia.org/resource/Anıtkabir'))\n",
      "(rdflib.term.URIRef('http://dbpedia.org/ontology/restingPlace'), rdflib.term.URIRef('http://dbpedia.org/resource/Ankara'))\n",
      "(rdflib.term.URIRef('http://dbpedia.org/ontology/restingPlace'), rdflib.term.URIRef('http://dbpedia.org/resource/Ethnography_Museum_of_Ankara'))\n",
      "(rdflib.term.URIRef('http://dbpedia.org/ontology/signature'), rdflib.term.Literal('Signature of Mustafa Kemal Atatürk.svg'))\n",
      "(rdflib.term.URIRef('http://dbpedia.org/ontology/spouse'), rdflib.term.URIRef('http://dbpedia.org/resource/Lâtife_Uşaklıgil'))\n",
      "(rdflib.term.URIRef('http://dbpedia.org/ontology/successor'), rdflib.term.URIRef('http://dbpedia.org/resource/Ali_Fethi_Okyar'))\n",
      "(rdflib.term.URIRef('http://dbpedia.org/ontology/successor'), rdflib.term.URIRef('http://dbpedia.org/resource/İsmet_İnönü'))\n",
      "(rdflib.term.URIRef('http://dbpedia.org/ontology/successor'), rdflib.term.URIRef('http://dbpedia.org/resource/Fevzi_Çakmak'))\n",
      "(rdflib.term.URIRef('http://dbpedia.org/ontology/termPeriod'), rdflib.term.URIRef('http://dbpedia.org/resource/Mustafa_Kemal_Atatürk__1'))\n",
      "(rdflib.term.URIRef('http://dbpedia.org/property/birthName'), rdflib.term.Literal('Ali Rıza oğlu Mustafa', datatype=rdflib.term.URIRef('http://www.w3.org/1999/02/22-rdf-syntax-ns#langString')))\n",
      "(rdflib.term.URIRef('http://dbpedia.org/property/footnotes'), rdflib.term.Literal('50', datatype=rdflib.term.URIRef('http://www.w3.org/2001/XMLSchema#integer')))\n",
      "(rdflib.term.URIRef('http://dbpedia.org/property/honorificPrefix'), rdflib.term.URIRef('http://dbpedia.org/resource/Excellency'))\n",
      "(rdflib.term.URIRef('http://dbpedia.org/property/id'), rdflib.term.Literal('gov.archives.arc.651784', datatype=rdflib.term.URIRef('http://www.w3.org/1999/02/22-rdf-syntax-ns#langString')))\n",
      "(rdflib.term.URIRef('http://dbpedia.org/property/predecessor'), rdflib.term.Literal('Office established', datatype=rdflib.term.URIRef('http://www.w3.org/1999/02/22-rdf-syntax-ns#langString')))\n",
      "(rdflib.term.URIRef('http://dbpedia.org/property/term'), rdflib.term.Literal('--05-03', datatype=rdflib.term.URIRef('http://www.w3.org/2001/XMLSchema#gMonthDay')))\n",
      "(rdflib.term.URIRef('http://dbpedia.org/property/term'), rdflib.term.Literal('--09-09', datatype=rdflib.term.URIRef('http://www.w3.org/2001/XMLSchema#gMonthDay')))\n",
      "(rdflib.term.URIRef('http://dbpedia.org/property/term'), rdflib.term.Literal('--10-29', datatype=rdflib.term.URIRef('http://www.w3.org/2001/XMLSchema#gMonthDay')))\n",
      "(rdflib.term.URIRef('http://dbpedia.org/property/term'), rdflib.term.Literal('--04-24', datatype=rdflib.term.URIRef('http://www.w3.org/2001/XMLSchema#gMonthDay')))\n",
      "(rdflib.term.URIRef('http://dbpedia.org/property/title'), rdflib.term.URIRef(\"http://dbpedia.org/resource/Republican_People's_Party_(Turkey)\"))\n",
      "(rdflib.term.URIRef('http://dbpedia.org/property/title'), rdflib.term.URIRef('http://dbpedia.org/resource/List_of_Presidents_of_Turkey'))\n",
      "(rdflib.term.URIRef('http://dbpedia.org/property/title'), rdflib.term.URIRef('http://dbpedia.org/resource/List_of_Speakers_of_the_Parliament_of_Turkey'))\n",
      "(rdflib.term.URIRef('http://dbpedia.org/property/title'), rdflib.term.URIRef('http://dbpedia.org/resource/List_of_Prime_Ministers_of_Turkey'))\n",
      "(rdflib.term.URIRef('http://dbpedia.org/property/title'), rdflib.term.Literal('(Residual elements)', datatype=rdflib.term.URIRef('http://www.w3.org/1999/02/22-rdf-syntax-ns#langString')))\n",
      "(rdflib.term.URIRef('http://dbpedia.org/property/title'), rdflib.term.Literal('Commander of Thunder Army Group', datatype=rdflib.term.URIRef('http://www.w3.org/1999/02/22-rdf-syntax-ns#langString')))\n",
      "(rdflib.term.URIRef('http://dbpedia.org/property/title'), rdflib.term.Literal('Commander of the Second Army', datatype=rdflib.term.URIRef('http://www.w3.org/1999/02/22-rdf-syntax-ns#langString')))\n",
      "(rdflib.term.URIRef('http://dbpedia.org/property/title'), rdflib.term.Literal('Commander of the Seventh Army', datatype=rdflib.term.URIRef('http://www.w3.org/1999/02/22-rdf-syntax-ns#langString')))\n",
      "(rdflib.term.URIRef('http://dbpedia.org/property/years'), rdflib.term.Literal('--04-25', datatype=rdflib.term.URIRef('http://www.w3.org/2001/XMLSchema#gMonthDay')))\n",
      "(rdflib.term.URIRef('http://dbpedia.org/property/years'), rdflib.term.Literal('--09-09', datatype=rdflib.term.URIRef('http://www.w3.org/2001/XMLSchema#gMonthDay')))\n",
      "(rdflib.term.URIRef('http://dbpedia.org/property/years'), rdflib.term.Literal('--10-29', datatype=rdflib.term.URIRef('http://www.w3.org/2001/XMLSchema#gMonthDay')))\n",
      "(rdflib.term.URIRef('http://dbpedia.org/property/years'), rdflib.term.Literal('--04-24', datatype=rdflib.term.URIRef('http://www.w3.org/2001/XMLSchema#gMonthDay')))\n",
      "(rdflib.term.URIRef('http://dbpedia.org/property/years'), rdflib.term.Literal('August – September 1918', datatype=rdflib.term.URIRef('http://www.w3.org/1999/02/22-rdf-syntax-ns#langString')))\n",
      "(rdflib.term.URIRef('http://dbpedia.org/property/years'), rdflib.term.Literal('July – October 1917', datatype=rdflib.term.URIRef('http://www.w3.org/1999/02/22-rdf-syntax-ns#langString')))\n",
      "(rdflib.term.URIRef('http://dbpedia.org/property/years'), rdflib.term.Literal('March – July 1917', datatype=rdflib.term.URIRef('http://www.w3.org/1999/02/22-rdf-syntax-ns#langString')))\n",
      "(rdflib.term.URIRef('http://dbpedia.org/property/years'), rdflib.term.Literal('October – November 1918', datatype=rdflib.term.URIRef('http://www.w3.org/1999/02/22-rdf-syntax-ns#langString')))\n",
      "(rdflib.term.URIRef('http://purl.org/linguistics/gold/hypernym'), rdflib.term.URIRef('http://dbpedia.org/resource/Officer'))\n"
     ]
    }
   ],
   "source": [
    "for row in query:\n",
    "    print(row)"
   ]
  },
  {
   "cell_type": "code",
   "execution_count": null,
   "metadata": {},
   "outputs": [],
   "source": []
  }
 ],
 "metadata": {
  "kernelspec": {
   "display_name": "Python 3",
   "language": "python",
   "name": "python3"
  },
  "language_info": {
   "codemirror_mode": {
    "name": "ipython",
    "version": 3
   },
   "file_extension": ".py",
   "mimetype": "text/x-python",
   "name": "python",
   "nbconvert_exporter": "python",
   "pygments_lexer": "ipython3",
   "version": "3.7.3"
  }
 },
 "nbformat": 4,
 "nbformat_minor": 4
}
