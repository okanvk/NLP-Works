{
 "cells": [
  {
   "cell_type": "code",
   "execution_count": 1,
   "metadata": {},
   "outputs": [],
   "source": [
    "import nltk"
   ]
  },
  {
   "cell_type": "code",
   "execution_count": 2,
   "metadata": {},
   "outputs": [
    {
     "name": "stdout",
     "output_type": "stream",
     "text": [
      "showing info https://raw.githubusercontent.com/nltk/nltk_data/gh-pages/index.xml\n"
     ]
    },
    {
     "data": {
      "text/plain": [
       "True"
      ]
     },
     "execution_count": 2,
     "metadata": {},
     "output_type": "execute_result"
    }
   ],
   "source": [
    "nltk.download()"
   ]
  },
  {
   "cell_type": "code",
   "execution_count": 2,
   "metadata": {},
   "outputs": [
    {
     "name": "stdout",
     "output_type": "stream",
     "text": [
      "['i', 'me', 'my', 'myself', 'we', 'our', 'ours', 'ourselves', 'you', \"you're\", \"you've\", \"you'll\", \"you'd\", 'your', 'yours', 'yourself', 'yourselves', 'he', 'him', 'his', 'himself', 'she', \"she's\", 'her', 'hers', 'herself', 'it', \"it's\", 'its', 'itself', 'they', 'them', 'their', 'theirs', 'themselves', 'what', 'which', 'who', 'whom', 'this', 'that', \"that'll\", 'these', 'those', 'am', 'is', 'are', 'was', 'were', 'be', 'been', 'being', 'have', 'has', 'had', 'having', 'do', 'does', 'did', 'doing', 'a', 'an', 'the', 'and', 'but', 'if', 'or', 'because', 'as', 'until', 'while', 'of', 'at', 'by', 'for', 'with', 'about', 'against', 'between', 'into', 'through', 'during', 'before', 'after', 'above', 'below', 'to', 'from', 'up', 'down', 'in', 'out', 'on', 'off', 'over', 'under', 'again', 'further', 'then', 'once', 'here', 'there', 'when', 'where', 'why', 'how', 'all', 'any', 'both', 'each', 'few', 'more', 'most', 'other', 'some', 'such', 'no', 'nor', 'not', 'only', 'own', 'same', 'so', 'than', 'too', 'very', 's', 't', 'can', 'will', 'just', 'don', \"don't\", 'should', \"should've\", 'now', 'd', 'll', 'm', 'o', 're', 've', 'y', 'ain', 'aren', \"aren't\", 'couldn', \"couldn't\", 'didn', \"didn't\", 'doesn', \"doesn't\", 'hadn', \"hadn't\", 'hasn', \"hasn't\", 'haven', \"haven't\", 'isn', \"isn't\", 'ma', 'mightn', \"mightn't\", 'mustn', \"mustn't\", 'needn', \"needn't\", 'shan', \"shan't\", 'shouldn', \"shouldn't\", 'wasn', \"wasn't\", 'weren', \"weren't\", 'won', \"won't\", 'wouldn', \"wouldn't\"]\n"
     ]
    }
   ],
   "source": [
    "from nltk.corpus import stopwords \n",
    "stop_words_eng = stopwords.words('english')\n",
    "print(stop_words_eng)"
   ]
  },
  {
   "cell_type": "code",
   "execution_count": 20,
   "metadata": {},
   "outputs": [
    {
     "name": "stdout",
     "output_type": "stream",
     "text": [
      "['acaba', 'ama', 'aslında', 'az', 'bazı', 'belki', 'biri', 'birkaç', 'birşey', 'biz', 'bu', 'çok', 'çünkü', 'da', 'daha', 'de', 'defa', 'diye', 'eğer', 'en', 'gibi', 'hem', 'hep', 'hepsi', 'her', 'hiç', 'için', 'ile', 'ise', 'kez', 'ki', 'kim', 'mı', 'mu', 'mü', 'nasıl', 'ne', 'neden', 'nerde', 'nerede', 'nereye', 'niçin', 'niye', 'o', 'sanki', 'şey', 'siz', 'şu', 'tüm', 've', 'veya', 'ya', 'yani']\n"
     ]
    }
   ],
   "source": [
    "stop_words_tur = stopwords.words('turkish')\n",
    "print(stop_words_tur)"
   ]
  },
  {
   "cell_type": "code",
   "execution_count": 21,
   "metadata": {},
   "outputs": [],
   "source": [
    "#https://github.com/Alir3z4/stop-words/blob/master/turkish.txt"
   ]
  },
  {
   "cell_type": "code",
   "execution_count": 3,
   "metadata": {},
   "outputs": [],
   "source": [
    "from sklearn.feature_extraction.text import ENGLISH_STOP_WORDS"
   ]
  },
  {
   "cell_type": "code",
   "execution_count": 4,
   "metadata": {},
   "outputs": [
    {
     "name": "stdout",
     "output_type": "stream",
     "text": [
      "frozenset({'part', 'why', 'between', 'him', 'anyhow', 'yourselves', 'sometimes', 'everything', 're', 'we', 'indeed', 'me', 'becoming', 'his', 'these', 'himself', 'too', 'were', 'six', 'amount', 'back', 'wherein', 'therein', 'any', 'whither', 'fifteen', 'the', 'bottom', 'by', 'might', 'always', 'everyone', 'do', 'third', 'nobody', 'all', 'here', 'least', 'eight', 'three', 'had', 'anyone', 'etc', 'several', 'he', 'thin', 'whereby', 'mill', 'via', 'am', 'none', 'moreover', 'then', 'seems', 'please', 'while', 'last', 'become', 'thereafter', 'enough', 'put', 'cry', 'found', 'out', 'there', 'since', 'could', 'behind', 'much', 'your', 'so', 'some', 'done', 'upon', 'have', 'anything', 'should', 'such', 'couldnt', 'whether', 'being', 'whence', 'few', 'whereas', 'to', 'cant', 'in', 'four', 'whoever', 'their', 'never', 'an', 'thereupon', 'yours', 'afterwards', 'on', 'of', 'they', 'which', 'former', 'down', 'my', 'somehow', 'throughout', 'amoungst', 'de', 'detail', 'them', 'beforehand', 'eg', 'against', 'noone', 'hereby', 'herself', 'get', 'above', 'before', 'name', 'for', 'herein', 'ours', 'into', 'each', 'whenever', 'ever', 'she', 'because', 'beside', 'co', 'sometime', 'off', 'go', 'made', 'system', 'keep', 'where', 'but', 'yourself', 'others', 'was', 'would', 'perhaps', 'and', 'yet', 'no', 'still', 'see', 'two', 'therefore', 'seem', 'those', 'i', 'thus', 'hereupon', 'hereafter', 'below', 'through', 'give', 'very', 'side', 'forty', 'can', 'whole', 'first', 'over', 'if', 'same', 'than', 'many', 'per', 'it', 'most', 'within', 'due', 'with', 'more', 'interest', 'whereafter', 'what', 'is', 'latterly', 'around', 'themselves', 'sixty', 'bill', 'its', 'seeming', 'again', 'from', 'be', 'nowhere', 'now', 'whom', 'nevertheless', 'hundred', 'after', 'mostly', 'neither', 'another', 'besides', 'rather', 'you', 'something', 'without', 'meanwhile', 'twenty', 'that', 'formerly', 'serious', 'this', 'move', 'mine', 'us', 'her', 'during', 'everywhere', 'one', 'a', 'every', 'about', 'namely', 'not', 'inc', 'seemed', 'may', 'whose', 'call', 'fill', 'itself', 'ltd', 'otherwise', 'myself', 'thence', 'well', 'un', 'con', 'must', 'eleven', 'nothing', 'wherever', 'together', 'at', 'fifty', 'also', 'other', 'latter', 'across', 'less', 'take', 'cannot', 'became', 'our', 'until', 'almost', 'own', 'hence', 'twelve', 'top', 'however', 'describe', 'how', 'up', 'as', 'thick', 'only', 'towards', 'anyway', 'been', 'amongst', 'under', 'already', 'five', 'who', 'are', 'except', 'anywhere', 'next', 'full', 'nine', 'further', 'along', 'elsewhere', 'whereupon', 'find', 'when', 'empty', 'or', 'thru', 'will', 'beyond', 'fire', 'show', 'front', 'once', 'hers', 'toward', 'among', 'either', 'else', 'somewhere', 'ten', 'though', 'sincere', 'nor', 'onto', 'even', 'alone', 'whatever', 'although', 'someone', 'often', 'thereby', 'both', 'becomes', 'has', 'hasnt', 'ie', 'ourselves'})\n"
     ]
    }
   ],
   "source": [
    "print(ENGLISH_STOP_WORDS)"
   ]
  },
  {
   "cell_type": "code",
   "execution_count": 5,
   "metadata": {},
   "outputs": [
    {
     "data": {
      "text/plain": [
       "318"
      ]
     },
     "execution_count": 5,
     "metadata": {},
     "output_type": "execute_result"
    }
   ],
   "source": [
    "len(ENGLISH_STOP_WORDS)"
   ]
  },
  {
   "cell_type": "code",
   "execution_count": 6,
   "metadata": {},
   "outputs": [],
   "source": [
    "full_stop_words = set()\n",
    "for i in ENGLISH_STOP_WORDS:\n",
    "    full_stop_words.add(i)\n",
    "for i in stop_words_eng:\n",
    "    full_stop_words.add(i)"
   ]
  },
  {
   "cell_type": "code",
   "execution_count": 7,
   "metadata": {},
   "outputs": [
    {
     "data": {
      "text/plain": [
       "378"
      ]
     },
     "execution_count": 7,
     "metadata": {},
     "output_type": "execute_result"
    }
   ],
   "source": [
    "len(full_stop_words)"
   ]
  },
  {
   "cell_type": "code",
   "execution_count": 8,
   "metadata": {},
   "outputs": [],
   "source": [
    "text_file=nltk.corpus.gutenberg.words('melville-moby_dick.txt')"
   ]
  },
  {
   "cell_type": "code",
   "execution_count": 28,
   "metadata": {},
   "outputs": [
    {
     "data": {
      "text/plain": [
       "260819"
      ]
     },
     "execution_count": 28,
     "metadata": {},
     "output_type": "execute_result"
    }
   ],
   "source": [
    "len(text_file)"
   ]
  },
  {
   "cell_type": "code",
   "execution_count": 33,
   "metadata": {},
   "outputs": [],
   "source": [
    "rest_of_story = []\n",
    "for i in text_file:\n",
    "    if i not in full_stop_words:\n",
    "        rest_of_story.append(i)"
   ]
  },
  {
   "cell_type": "code",
   "execution_count": 34,
   "metadata": {},
   "outputs": [
    {
     "data": {
      "text/plain": [
       "147800"
      ]
     },
     "execution_count": 34,
     "metadata": {},
     "output_type": "execute_result"
    }
   ],
   "source": [
    "len(rest_of_story)"
   ]
  },
  {
   "cell_type": "code",
   "execution_count": null,
   "metadata": {},
   "outputs": [],
   "source": []
  }
 ],
 "metadata": {
  "kernelspec": {
   "display_name": "Python 3",
   "language": "python",
   "name": "python3"
  },
  "language_info": {
   "codemirror_mode": {
    "name": "ipython",
    "version": 3
   },
   "file_extension": ".py",
   "mimetype": "text/x-python",
   "name": "python",
   "nbconvert_exporter": "python",
   "pygments_lexer": "ipython3",
   "version": "3.7.3"
  }
 },
 "nbformat": 4,
 "nbformat_minor": 4
}
