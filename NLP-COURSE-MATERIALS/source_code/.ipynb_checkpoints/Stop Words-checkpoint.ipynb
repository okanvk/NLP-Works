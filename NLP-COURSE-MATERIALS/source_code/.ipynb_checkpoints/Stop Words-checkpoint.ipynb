{
 "cells": [
  {
   "cell_type": "code",
   "execution_count": 18,
   "metadata": {},
   "outputs": [],
   "source": [
    "import nltk"
   ]
  },
  {
   "cell_type": "code",
   "execution_count": 8,
   "metadata": {},
   "outputs": [
    {
     "name": "stdout",
     "output_type": "stream",
     "text": [
      "showing info https://raw.githubusercontent.com/nltk/nltk_data/gh-pages/index.xml\n"
     ]
    },
    {
     "data": {
      "text/plain": [
       "True"
      ]
     },
     "execution_count": 8,
     "metadata": {},
     "output_type": "execute_result"
    }
   ],
   "source": [
    "nltk.download()"
   ]
  },
  {
   "cell_type": "code",
   "execution_count": 19,
   "metadata": {},
   "outputs": [
    {
     "name": "stdout",
     "output_type": "stream",
     "text": [
      "['i', 'me', 'my', 'myself', 'we', 'our', 'ours', 'ourselves', 'you', \"you're\", \"you've\", \"you'll\", \"you'd\", 'your', 'yours', 'yourself', 'yourselves', 'he', 'him', 'his', 'himself', 'she', \"she's\", 'her', 'hers', 'herself', 'it', \"it's\", 'its', 'itself', 'they', 'them', 'their', 'theirs', 'themselves', 'what', 'which', 'who', 'whom', 'this', 'that', \"that'll\", 'these', 'those', 'am', 'is', 'are', 'was', 'were', 'be', 'been', 'being', 'have', 'has', 'had', 'having', 'do', 'does', 'did', 'doing', 'a', 'an', 'the', 'and', 'but', 'if', 'or', 'because', 'as', 'until', 'while', 'of', 'at', 'by', 'for', 'with', 'about', 'against', 'between', 'into', 'through', 'during', 'before', 'after', 'above', 'below', 'to', 'from', 'up', 'down', 'in', 'out', 'on', 'off', 'over', 'under', 'again', 'further', 'then', 'once', 'here', 'there', 'when', 'where', 'why', 'how', 'all', 'any', 'both', 'each', 'few', 'more', 'most', 'other', 'some', 'such', 'no', 'nor', 'not', 'only', 'own', 'same', 'so', 'than', 'too', 'very', 's', 't', 'can', 'will', 'just', 'don', \"don't\", 'should', \"should've\", 'now', 'd', 'll', 'm', 'o', 're', 've', 'y', 'ain', 'aren', \"aren't\", 'couldn', \"couldn't\", 'didn', \"didn't\", 'doesn', \"doesn't\", 'hadn', \"hadn't\", 'hasn', \"hasn't\", 'haven', \"haven't\", 'isn', \"isn't\", 'ma', 'mightn', \"mightn't\", 'mustn', \"mustn't\", 'needn', \"needn't\", 'shan', \"shan't\", 'shouldn', \"shouldn't\", 'wasn', \"wasn't\", 'weren', \"weren't\", 'won', \"won't\", 'wouldn', \"wouldn't\"]\n"
     ]
    }
   ],
   "source": [
    "from nltk.corpus import stopwords \n",
    "stop_words_eng = stopwords.words('english')\n",
    "print(stop_words_eng)"
   ]
  },
  {
   "cell_type": "code",
   "execution_count": 20,
   "metadata": {},
   "outputs": [
    {
     "name": "stdout",
     "output_type": "stream",
     "text": [
      "['acaba', 'ama', 'aslında', 'az', 'bazı', 'belki', 'biri', 'birkaç', 'birşey', 'biz', 'bu', 'çok', 'çünkü', 'da', 'daha', 'de', 'defa', 'diye', 'eğer', 'en', 'gibi', 'hem', 'hep', 'hepsi', 'her', 'hiç', 'için', 'ile', 'ise', 'kez', 'ki', 'kim', 'mı', 'mu', 'mü', 'nasıl', 'ne', 'neden', 'nerde', 'nerede', 'nereye', 'niçin', 'niye', 'o', 'sanki', 'şey', 'siz', 'şu', 'tüm', 've', 'veya', 'ya', 'yani']\n"
     ]
    }
   ],
   "source": [
    "stop_words_tur = stopwords.words('turkish')\n",
    "print(stop_words_tur)"
   ]
  },
  {
   "cell_type": "code",
   "execution_count": 21,
   "metadata": {},
   "outputs": [],
   "source": [
    "#https://github.com/Alir3z4/stop-words/blob/master/turkish.txt"
   ]
  },
  {
   "cell_type": "code",
   "execution_count": 22,
   "metadata": {},
   "outputs": [],
   "source": [
    "from sklearn.feature_extraction.text import ENGLISH_STOP_WORDS"
   ]
  },
  {
   "cell_type": "code",
   "execution_count": 23,
   "metadata": {},
   "outputs": [
    {
     "name": "stdout",
     "output_type": "stream",
     "text": [
      "frozenset({'i', 'what', 'sincere', 'thin', 'itself', 'fifteen', 'himself', 'yours', 'inc', 'among', 'fill', 'around', 'afterwards', 'can', 'further', 'he', 'your', 'then', 'etc', 'noone', 'someone', 'several', 'behind', 'who', 'there', 'besides', 'becomes', 'before', 'became', 'less', 'yourselves', 'anyway', 'below', 'anyone', 'they', 'between', 'anyhow', 'seemed', 'very', 'hence', 'sixty', 'forty', 'no', 'go', 'hereafter', 'cry', 'be', 'towards', 'though', 'ours', 'back', 'another', 'un', 'done', 'cant', 'take', 'namely', 'until', 'de', 'thus', 'without', 'keep', 'why', 'describe', 'two', 'part', 'me', 'anywhere', 'however', 'elsewhere', 'get', 'whoever', 'become', 'therein', 'via', 'during', 'down', 'nevertheless', 'here', 'amongst', 'hers', 'upon', 'through', 'them', 'whatever', 'beyond', 'nothing', 'always', 'already', 'with', 'by', 'must', 'give', 'so', 'one', 'since', 'therefore', 'where', 'but', 'are', 'only', 'anything', 'whereby', 'ltd', 'enough', 'throughout', 'couldnt', 'everything', 'to', 'those', 'once', 'will', 'wherein', 'other', 'formerly', 'well', 'three', 'from', 'we', 'whether', 'ourselves', 'again', 'con', 'ie', 'may', 'had', 'is', 'nobody', 'twenty', 'am', 'which', 'her', 'never', 'latter', 'seem', 'how', 'beforehand', 'nor', 'my', 'most', 'whereas', 'into', 'our', 'toward', 'often', 'own', 'eg', 'former', 'you', 'thence', 'ever', 'while', 'rather', 'meanwhile', 'onto', 'she', 'six', 'because', 'same', 'against', 'each', 'almost', 'sometimes', 'many', 'co', 'were', 'now', 'sometime', 'too', 'full', 'four', 'bill', 'not', 'nowhere', 'about', 'top', 'serious', 'eleven', 'an', 'empty', 'also', 'everyone', 'herein', 'more', 'front', 'do', 'indeed', 'please', 'cannot', 'or', 'herself', 'when', 'interest', 'thereupon', 'within', 'such', 'whole', 'whereafter', 'mostly', 'much', 'hundred', 'mill', 'wherever', 'us', 'thick', 'at', 'although', 'find', 'latterly', 'becoming', 'fire', 'see', 'its', 'otherwise', 'ten', 'seems', 'none', 'everywhere', 'moreover', 'their', 'next', 'of', 'up', 'being', 'due', 'least', 'than', 'been', 'whenever', 'eight', 'still', 'yourself', 'a', 'all', 'whereupon', 'across', 'if', 'hereupon', 'beside', 'hereby', 'perhaps', 'as', 'in', 'found', 'him', 'something', 'would', 'amount', 'per', 're', 'somehow', 'system', 'every', 'alone', 'whose', 'above', 'thru', 'should', 'somewhere', 'detail', 'the', 'under', 'both', 'has', 'thereby', 'this', 'name', 'seeming', 'together', 'side', 'along', 'out', 'have', 'few', 'and', 'could', 'nine', 'themselves', 'last', 'move', 'thereafter', 'twelve', 'whence', 'mine', 'on', 'yet', 'his', 'first', 'off', 'except', 'fifty', 'either', 'neither', 'for', 'amoungst', 'hasnt', 'it', 'others', 'put', 'made', 'over', 'might', 'even', 'whom', 'show', 'else', 'myself', 'third', 'any', 'call', 'whither', 'five', 'bottom', 'that', 'some', 'after', 'was', 'these'})\n"
     ]
    }
   ],
   "source": [
    "print(ENGLISH_STOP_WORDS)"
   ]
  },
  {
   "cell_type": "code",
   "execution_count": 24,
   "metadata": {},
   "outputs": [
    {
     "data": {
      "text/plain": [
       "318"
      ]
     },
     "execution_count": 24,
     "metadata": {},
     "output_type": "execute_result"
    }
   ],
   "source": [
    "len(ENGLISH_STOP_WORDS)"
   ]
  },
  {
   "cell_type": "code",
   "execution_count": 25,
   "metadata": {},
   "outputs": [],
   "source": [
    "full_stop_words = set()\n",
    "for i in ENGLISH_STOP_WORDS:\n",
    "    full_stop_words.add(i)\n",
    "for i in stop_words_eng:\n",
    "    full_stop_words.add(i)"
   ]
  },
  {
   "cell_type": "code",
   "execution_count": 26,
   "metadata": {},
   "outputs": [
    {
     "data": {
      "text/plain": [
       "378"
      ]
     },
     "execution_count": 26,
     "metadata": {},
     "output_type": "execute_result"
    }
   ],
   "source": [
    "len(full_stop_words)"
   ]
  },
  {
   "cell_type": "code",
   "execution_count": 27,
   "metadata": {},
   "outputs": [],
   "source": [
    "text_file=nltk.corpus.gutenberg.words('melville-moby_dick.txt')"
   ]
  },
  {
   "cell_type": "code",
   "execution_count": 28,
   "metadata": {},
   "outputs": [
    {
     "data": {
      "text/plain": [
       "260819"
      ]
     },
     "execution_count": 28,
     "metadata": {},
     "output_type": "execute_result"
    }
   ],
   "source": [
    "len(text_file)"
   ]
  },
  {
   "cell_type": "code",
   "execution_count": 33,
   "metadata": {},
   "outputs": [],
   "source": [
    "rest_of_story = []\n",
    "for i in text_file:\n",
    "    if i not in full_stop_words:\n",
    "        rest_of_story.append(i)"
   ]
  },
  {
   "cell_type": "code",
   "execution_count": 34,
   "metadata": {},
   "outputs": [
    {
     "data": {
      "text/plain": [
       "147800"
      ]
     },
     "execution_count": 34,
     "metadata": {},
     "output_type": "execute_result"
    }
   ],
   "source": [
    "len(rest_of_story)"
   ]
  },
  {
   "cell_type": "code",
   "execution_count": null,
   "metadata": {},
   "outputs": [],
   "source": []
  }
 ],
 "metadata": {
  "kernelspec": {
   "display_name": "Python 3",
   "language": "python",
   "name": "python3"
  },
  "language_info": {
   "codemirror_mode": {
    "name": "ipython",
    "version": 3
   },
   "file_extension": ".py",
   "mimetype": "text/x-python",
   "name": "python",
   "nbconvert_exporter": "python",
   "pygments_lexer": "ipython3",
   "version": "3.7.3"
  }
 },
 "nbformat": 4,
 "nbformat_minor": 4
}
