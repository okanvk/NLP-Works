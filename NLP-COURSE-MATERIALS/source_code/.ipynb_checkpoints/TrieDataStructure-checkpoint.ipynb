{
 "cells": [
  {
   "cell_type": "code",
   "execution_count": 59,
   "metadata": {},
   "outputs": [],
   "source": [
    "class TrieNode(): \n",
    "    def __init__(self): \n",
    "        self.children = {} \n",
    "         # Dictionary kullanarak ağacı dallandıracağız.\n",
    "        self.last = False\n",
    "         # Bütün node(kök)ler başta bir endWord değildir.yani o ağacın sıra olan bir kelime sonunu göstermez "
   ]
  },
  {
   "cell_type": "code",
   "execution_count": 74,
   "metadata": {},
   "outputs": [],
   "source": [
    "class TrieDS(): \n",
    "    def __init__(self): \n",
    "        self.root = TrieNode() \n",
    "        self.word_list = [] \n",
    "  \n",
    "    def formTrie(self, keys): \n",
    "        # Birden fazla kelime eklemek istiyorsak.\n",
    "        for key in keys: \n",
    "            self.insert(key)\n",
    "  \n",
    "    def insert(self, key): \n",
    "        root = self.root \n",
    "        key = key.lower()\n",
    "  \n",
    "        for a in list(key): \n",
    "            if not root.children.get(a): \n",
    "                root.children[a] = TrieNode() \n",
    "  \n",
    "            root = root.children[a] \n",
    "  \n",
    "        root.last = True\n",
    "  \n",
    "    def search(self, key): \n",
    "        root = self.root \n",
    "        key = key.lower()\n",
    "        found = True\n",
    "  \n",
    "        for a in list(key): \n",
    "            if not root.children.get(a): \n",
    "                found = False\n",
    "                break\n",
    "  \n",
    "            root = root.children[a] \n",
    "  \n",
    "        return root and root.last and found \n",
    "  \n",
    "    def suggestionsRec(self, node, word): \n",
    "        if node.last: \n",
    "            self.word_list.append(word) \n",
    "  \n",
    "        for a,n in node.children.items(): \n",
    "            self.suggestionsRec(n, word + a) \n",
    "  \n",
    "    def printSuggestions(self, key): \n",
    "        root = self.root \n",
    "        not_found = False\n",
    "        temp_word = ''\n",
    "        key = key.lower()\n",
    "  \n",
    "        for a in list(key): \n",
    "            if not root.children.get(a): \n",
    "                not_found = True\n",
    "                break\n",
    "  \n",
    "            temp_word += a \n",
    "            root = root.children[a] \n",
    "  \n",
    "        if not_found: \n",
    "            return False\n",
    "        elif root.last and not root.children:\n",
    "            print(temp_word)\n",
    "            return True\n",
    "        \n",
    "        self.suggestionsRec(root, temp_word) \n",
    "  \n",
    "        for s in set(self.word_list): \n",
    "            print(s) \n",
    "        self.word_list = []\n",
    "        return True\n",
    "  "
   ]
  },
  {
   "cell_type": "code",
   "execution_count": 75,
   "metadata": {},
   "outputs": [],
   "source": [
    "t = TrieDS() \n",
    "keys = [\"kitap\",\"kit\",\"elma\",\"elena\",\"pinhani\",\"pinpon\",\"matrix\",\"matematik\"] \n",
    "t.formTrie(keys) "
   ]
  },
  {
   "cell_type": "code",
   "execution_count": 76,
   "metadata": {},
   "outputs": [
    {
     "data": {
      "text/plain": [
       "True"
      ]
     },
     "execution_count": 76,
     "metadata": {},
     "output_type": "execute_result"
    }
   ],
   "source": [
    "t.search(\"kitap\")"
   ]
  },
  {
   "cell_type": "code",
   "execution_count": 77,
   "metadata": {},
   "outputs": [
    {
     "data": {
      "text/plain": [
       "False"
      ]
     },
     "execution_count": 77,
     "metadata": {},
     "output_type": "execute_result"
    }
   ],
   "source": [
    "t.search(\"pinhanis\")"
   ]
  },
  {
   "cell_type": "code",
   "execution_count": 84,
   "metadata": {},
   "outputs": [
    {
     "name": "stdout",
     "output_type": "stream",
     "text": [
      "Empty\n"
     ]
    }
   ],
   "source": [
    "key = \"a\"\n",
    "comp = t.printSuggestions(key) \n",
    "if comp == True: \n",
    "    print(\"You can find listed strings above\") \n",
    "elif comp == False: \n",
    "    print(\"Empty\") "
   ]
  },
  {
   "cell_type": "code",
   "execution_count": null,
   "metadata": {},
   "outputs": [],
   "source": []
  },
  {
   "cell_type": "code",
   "execution_count": null,
   "metadata": {},
   "outputs": [],
   "source": []
  }
 ],
 "metadata": {
  "kernelspec": {
   "display_name": "Python 3",
   "language": "python",
   "name": "python3"
  },
  "language_info": {
   "codemirror_mode": {
    "name": "ipython",
    "version": 3
   },
   "file_extension": ".py",
   "mimetype": "text/x-python",
   "name": "python",
   "nbconvert_exporter": "python",
   "pygments_lexer": "ipython3",
   "version": "3.7.3"
  }
 },
 "nbformat": 4,
 "nbformat_minor": 4
}
