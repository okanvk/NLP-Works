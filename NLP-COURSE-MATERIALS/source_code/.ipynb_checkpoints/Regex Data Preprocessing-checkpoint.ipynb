{
 "cells": [
  {
   "cell_type": "code",
   "execution_count": 1,
   "metadata": {},
   "outputs": [],
   "source": [
    "import re"
   ]
  },
  {
   "cell_type": "code",
   "execution_count": 2,
   "metadata": {},
   "outputs": [
    {
     "name": "stdout",
     "output_type": "stream",
     "text": [
      "This is a wolf #scary\n",
      "Welcome to the jungle #missing\n",
      "113322 the number to know\n",
      "Remember the name s -John\n",
      "I   would    play    game\n",
      "------------------------------\n",
      "this is wolf scary\n",
      "welcome to the jungle missing\n",
      "the number to know\n",
      "remember the name john\n",
      "i would play game\n"
     ]
    }
   ],
   "source": [
    "sentences = [\"This is a wolf #scary\",\"Welcome to the jungle #missing\",\"113322 the number to know\",\"Remember the name s -John\",\"I   would    play    game\"]\n",
    "for sentence in sentences:\n",
    "    print(sentence)\n",
    "for i in range(len(sentences)):\n",
    "    sentences[i] = re.sub(r\"\\W\",\" \",sentences[i]) # Özel karakterleri sil\n",
    "    sentences[i] = re.sub(r\"\\d\",\" \",sentences[i]) # Sayıları boşluk olarak değiştir.\n",
    "    sentences[i] = re.sub(r\"\\s+[a-zA-Z]\\s+\",\" \",sentences[i]) # Boşluklar arasında tek harf varsa hepsini kaldır tek boşluk koy\n",
    "    sentences[i] = re.sub(r\"\\s+\", \" \",sentences[i]) # Birden fazla olan boşluğu tek boşluğa indir.\n",
    "    sentences[i] = re.sub(r\"^\\s\",\"\",sentences[i]) # ^ (-> Değerin başında) boşluk varsa sil.\n",
    "    sentences[i] = sentences[i].lower()\n",
    "print(\"------\"*5)\n",
    "for sentence in sentences:\n",
    "    print(sentence)"
   ]
  },
  {
   "cell_type": "code",
   "execution_count": null,
   "metadata": {},
   "outputs": [],
   "source": []
  },
  {
   "cell_type": "code",
   "execution_count": null,
   "metadata": {},
   "outputs": [],
   "source": []
  }
 ],
 "metadata": {
  "kernelspec": {
   "display_name": "Python 3",
   "language": "python",
   "name": "python3"
  },
  "language_info": {
   "codemirror_mode": {
    "name": "ipython",
    "version": 3
   },
   "file_extension": ".py",
   "mimetype": "text/x-python",
   "name": "python",
   "nbconvert_exporter": "python",
   "pygments_lexer": "ipython3",
   "version": "3.7.3"
  }
 },
 "nbformat": 4,
 "nbformat_minor": 4
}
