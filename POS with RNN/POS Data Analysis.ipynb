{
 "cells": [
  {
   "cell_type": "code",
   "execution_count": 1,
   "metadata": {},
   "outputs": [],
   "source": [
    "def get_data(split_sequences=False):\n",
    "\n",
    "    X = []\n",
    "    y = []\n",
    "    currentX = []\n",
    "    currentY = []\n",
    "    for line in open('train.txt'):\n",
    "        line = line.rstrip()\n",
    "        if line:\n",
    "            r = line.split()\n",
    "            word, tag, _ = r\n",
    "            currentX.append(word)\n",
    "            currentY.append(tag)\n",
    "        elif split_sequences:\n",
    "            X.append(currentX)\n",
    "            y.append(currentY)\n",
    "            currentX = []\n",
    "            currentY = []\n",
    "\n",
    "    currentX = []\n",
    "    currentY = []\n",
    "    for line in open('test.txt'):\n",
    "        line = line.rstrip()\n",
    "        if line:\n",
    "            r = line.split()\n",
    "            word, tag, _ = r\n",
    "            currentX.append(word)\n",
    "            currentY.append(tag)\n",
    "        elif split_sequences:\n",
    "            X.append(currentX)\n",
    "            y.append(currentY)\n",
    "            currentX = []\n",
    "            currentY = []\n",
    "\n",
    "    return X, y"
   ]
  },
  {
   "cell_type": "code",
   "execution_count": 2,
   "metadata": {},
   "outputs": [],
   "source": [
    "Xdata,ydata = get_data(split_sequences=True)"
   ]
  },
  {
   "cell_type": "code",
   "execution_count": 3,
   "metadata": {},
   "outputs": [
    {
     "data": {
      "text/plain": [
       "\"Confidence in the pound is widely expected to take another sharp dive if trade figures for September , due for release tomorrow , fail to show a substantial improvement from July and August 's near-record deficits .\""
      ]
     },
     "execution_count": 3,
     "metadata": {},
     "output_type": "execute_result"
    }
   ],
   "source": [
    "\" \".join(Xdata[0])"
   ]
  },
  {
   "cell_type": "code",
   "execution_count": 4,
   "metadata": {},
   "outputs": [
    {
     "data": {
      "text/plain": [
       "'NN IN DT NN VBZ RB VBN TO VB DT JJ NN IN NN NNS IN NNP , JJ IN NN NN , VB TO VB DT JJ NN IN NNP CC NNP POS JJ NNS .'"
      ]
     },
     "execution_count": 4,
     "metadata": {},
     "output_type": "execute_result"
    }
   ],
   "source": [
    "\" \".join(ydata[0])"
   ]
  },
  {
   "cell_type": "code",
   "execution_count": 5,
   "metadata": {},
   "outputs": [
    {
     "name": "stdout",
     "output_type": "stream",
     "text": [
      "Confidence : NN\n",
      "in : IN\n",
      "the : DT\n",
      "pound : NN\n",
      "is : VBZ\n",
      "widely : RB\n",
      "expected : VBN\n",
      "to : TO\n",
      "take : VB\n",
      "another : DT\n",
      "sharp : JJ\n",
      "dive : NN\n",
      "if : IN\n",
      "trade : NN\n",
      "figures : NNS\n",
      "for : IN\n",
      "September : NNP\n",
      ", : ,\n",
      "due : JJ\n",
      "for : IN\n",
      "release : NN\n",
      "tomorrow : NN\n",
      ", : ,\n",
      "fail : VB\n",
      "to : TO\n",
      "show : VB\n",
      "a : DT\n",
      "substantial : JJ\n",
      "improvement : NN\n",
      "from : IN\n",
      "July : NNP\n",
      "and : CC\n",
      "August : NNP\n",
      "'s : POS\n",
      "near-record : JJ\n",
      "deficits : NNS\n",
      ". : .\n"
     ]
    }
   ],
   "source": [
    "for x,y in [(Xdata,ydata)]:\n",
    "    for i in range(0,37):\n",
    "        print(f\"{Xdata[0][i]} : {ydata[0][i]}\")"
   ]
  },
  {
   "cell_type": "code",
   "execution_count": 6,
   "metadata": {},
   "outputs": [],
   "source": [
    "classes = [item for sublist in ydata for item in sublist]"
   ]
  },
  {
   "cell_type": "code",
   "execution_count": 7,
   "metadata": {},
   "outputs": [],
   "source": [
    "set_classes = set(classes) "
   ]
  },
  {
   "cell_type": "code",
   "execution_count": 8,
   "metadata": {},
   "outputs": [
    {
     "data": {
      "text/plain": [
       "44"
      ]
     },
     "execution_count": 8,
     "metadata": {},
     "output_type": "execute_result"
    }
   ],
   "source": [
    "len(set_classes)"
   ]
  },
  {
   "cell_type": "code",
   "execution_count": 9,
   "metadata": {},
   "outputs": [
    {
     "data": {
      "text/plain": [
       "{'#',\n",
       " '$',\n",
       " \"''\",\n",
       " '(',\n",
       " ')',\n",
       " ',',\n",
       " '.',\n",
       " ':',\n",
       " 'CC',\n",
       " 'CD',\n",
       " 'DT',\n",
       " 'EX',\n",
       " 'FW',\n",
       " 'IN',\n",
       " 'JJ',\n",
       " 'JJR',\n",
       " 'JJS',\n",
       " 'MD',\n",
       " 'NN',\n",
       " 'NNP',\n",
       " 'NNPS',\n",
       " 'NNS',\n",
       " 'PDT',\n",
       " 'POS',\n",
       " 'PRP',\n",
       " 'PRP$',\n",
       " 'RB',\n",
       " 'RBR',\n",
       " 'RBS',\n",
       " 'RP',\n",
       " 'SYM',\n",
       " 'TO',\n",
       " 'UH',\n",
       " 'VB',\n",
       " 'VBD',\n",
       " 'VBG',\n",
       " 'VBN',\n",
       " 'VBP',\n",
       " 'VBZ',\n",
       " 'WDT',\n",
       " 'WP',\n",
       " 'WP$',\n",
       " 'WRB',\n",
       " '``'}"
      ]
     },
     "execution_count": 9,
     "metadata": {},
     "output_type": "execute_result"
    }
   ],
   "source": [
    "set_classes"
   ]
  },
  {
   "cell_type": "code",
   "execution_count": 10,
   "metadata": {},
   "outputs": [],
   "source": [
    "classesOccurence = {}\n",
    "for item in ydata:\n",
    "    for j in item:\n",
    "        if j in classesOccurence.keys():\n",
    "            classesOccurence[j] += 1\n",
    "        else:\n",
    "            classesOccurence[j] = 1"
   ]
  },
  {
   "cell_type": "code",
   "execution_count": 11,
   "metadata": {},
   "outputs": [
    {
     "data": {
      "text/plain": [
       "{'NN': 36789,\n",
       " 'IN': 27835,\n",
       " 'DT': 22355,\n",
       " 'VBZ': 5561,\n",
       " 'RB': 7961,\n",
       " 'VBN': 5867,\n",
       " 'TO': 6259,\n",
       " 'VB': 7286,\n",
       " 'JJ': 16049,\n",
       " 'NNS': 16653,\n",
       " 'NNP': 24690,\n",
       " ',': 13160,\n",
       " 'CC': 6586,\n",
       " 'POS': 2203,\n",
       " '.': 10802,\n",
       " 'VBP': 3407,\n",
       " 'VBG': 4000,\n",
       " 'PRP$': 2302,\n",
       " 'CD': 10233,\n",
       " '``': 1854,\n",
       " \"''\": 1809,\n",
       " 'VBD': 8424,\n",
       " 'EX': 254,\n",
       " 'MD': 2637,\n",
       " '#': 47,\n",
       " '(': 351,\n",
       " '$': 2134,\n",
       " ')': 358,\n",
       " 'NNPS': 550,\n",
       " 'PRP': 4634,\n",
       " 'JJS': 451,\n",
       " 'WP': 639,\n",
       " 'RBR': 392,\n",
       " 'JJR': 1055,\n",
       " 'WDT': 1157,\n",
       " 'WRB': 571,\n",
       " 'RBS': 240,\n",
       " 'PDT': 65,\n",
       " 'RP': 95,\n",
       " ':': 1285,\n",
       " 'FW': 42,\n",
       " 'WP$': 39,\n",
       " 'SYM': 6,\n",
       " 'UH': 17}"
      ]
     },
     "execution_count": 11,
     "metadata": {},
     "output_type": "execute_result"
    }
   ],
   "source": [
    "classesOccurence"
   ]
  },
  {
   "cell_type": "code",
   "execution_count": 12,
   "metadata": {},
   "outputs": [],
   "source": [
    "import seaborn as sns\n",
    "import pandas as pd\n",
    "import matplotlib.pyplot as plt\n"
   ]
  },
  {
   "cell_type": "code",
   "execution_count": 13,
   "metadata": {},
   "outputs": [],
   "source": [
    "dfclass = pd.DataFrame.from_dict(classesOccurence, orient='index',columns=['Occurence'])"
   ]
  },
  {
   "cell_type": "code",
   "execution_count": 15,
   "metadata": {},
   "outputs": [
    {
     "data": {
      "text/plain": [
       "<matplotlib.axes._subplots.AxesSubplot at 0x1a1e2e8550>"
      ]
     },
     "execution_count": 15,
     "metadata": {},
     "output_type": "execute_result"
    },
    {
     "data": {
      "image/png": "[encoded data removed]",
      "text/plain": [
       "<Figure size 864x288 with 1 Axes>"
      ]
     },
     "metadata": {
      "needs_background": "light"
     },
     "output_type": "display_data"
    }
   ],
   "source": [
    "plt.figure(figsize=(12,4))\n",
    "sns.distplot(dfclass['Occurence'],kde=False,bins=40)"
   ]
  },
  {
   "cell_type": "code",
   "execution_count": 16,
   "metadata": {},
   "outputs": [],
   "source": [
    "words = [item for sublist in Xdata for item in sublist]"
   ]
  },
  {
   "cell_type": "code",
   "execution_count": 17,
   "metadata": {},
   "outputs": [
    {
     "data": {
      "text/plain": [
       "259104"
      ]
     },
     "execution_count": 17,
     "metadata": {},
     "output_type": "execute_result"
    }
   ],
   "source": [
    "len(words)"
   ]
  },
  {
   "cell_type": "code",
   "execution_count": 18,
   "metadata": {},
   "outputs": [],
   "source": [
    "set_words = set(words) "
   ]
  },
  {
   "cell_type": "code",
   "execution_count": 19,
   "metadata": {},
   "outputs": [
    {
     "data": {
      "text/plain": [
       "21589"
      ]
     },
     "execution_count": 19,
     "metadata": {},
     "output_type": "execute_result"
    }
   ],
   "source": [
    "len(set_words)"
   ]
  },
  {
   "cell_type": "code",
   "execution_count": 20,
   "metadata": {},
   "outputs": [],
   "source": [
    "wordsOccurence = {}\n",
    "for item in Xdata:\n",
    "    for j in item:\n",
    "        if j in wordsOccurence.keys():\n",
    "            wordsOccurence[j] += 1\n",
    "        else:\n",
    "            wordsOccurence[j] = 1"
   ]
  },
  {
   "cell_type": "code",
   "execution_count": 21,
   "metadata": {},
   "outputs": [],
   "source": [
    "dfwords = pd.DataFrame.from_dict(wordsOccurence, orient='index',columns=['Occurence'])"
   ]
  },
  {
   "cell_type": "code",
   "execution_count": 22,
   "metadata": {},
   "outputs": [
    {
     "data": {
      "text/html": [
       "<div>\n",
       "<style scoped>\n",
       "    .dataframe tbody tr th:only-of-type {\n",
       "        vertical-align: middle;\n",
       "    }\n",
       "\n",
       "    .dataframe tbody tr th {\n",
       "        vertical-align: top;\n",
       "    }\n",
       "\n",
       "    .dataframe thead th {\n",
       "        text-align: right;\n",
       "    }\n",
       "</style>\n",
       "<table border=\"1\" class=\"dataframe\">\n",
       "  <thead>\n",
       "    <tr style=\"text-align: right;\">\n",
       "      <th></th>\n",
       "      <th>Occurence</th>\n",
       "    </tr>\n",
       "  </thead>\n",
       "  <tbody>\n",
       "    <tr>\n",
       "      <th>Confidence</th>\n",
       "      <td>1</td>\n",
       "    </tr>\n",
       "    <tr>\n",
       "      <th>in</th>\n",
       "      <td>4144</td>\n",
       "    </tr>\n",
       "    <tr>\n",
       "      <th>the</th>\n",
       "      <td>11278</td>\n",
       "    </tr>\n",
       "    <tr>\n",
       "      <th>pound</th>\n",
       "      <td>15</td>\n",
       "    </tr>\n",
       "    <tr>\n",
       "      <th>is</th>\n",
       "      <td>1714</td>\n",
       "    </tr>\n",
       "  </tbody>\n",
       "</table>\n",
       "</div>"
      ],
      "text/plain": [
       "            Occurence\n",
       "Confidence          1\n",
       "in               4144\n",
       "the             11278\n",
       "pound              15\n",
       "is               1714"
      ]
     },
     "execution_count": 22,
     "metadata": {},
     "output_type": "execute_result"
    }
   ],
   "source": [
    "dfwords.head()"
   ]
  },
  {
   "cell_type": "code",
   "execution_count": null,
   "metadata": {},
   "outputs": [],
   "source": []
  },
  {
   "cell_type": "code",
   "execution_count": null,
   "metadata": {},
   "outputs": [],
   "source": []
  }
 ],
 "metadata": {
  "kernelspec": {
   "display_name": "Python 3",
   "language": "python",
   "name": "python3"
  },
  "language_info": {
   "codemirror_mode": {
    "name": "ipython",
    "version": 3
   },
   "file_extension": ".py",
   "mimetype": "text/x-python",
   "name": "python",
   "nbconvert_exporter": "python",
   "pygments_lexer": "ipython3",
   "version": "3.7.3"
  }
 },
 "nbformat": 4,
 "nbformat_minor": 2
}
